{
  "cells": [
    {
      "cell_type": "markdown",
      "source": [
        "<center><h1>AI in Web Development</h1></center>\n",
        "\n",
        "---\n",
        "\n",
        "<center><h2>Lesson 04</h2></center>\n",
        "\n",
        "\n",
        "[![Open In Colab](https://colab.research.google.com/assets/colab-badge.svg)](https://colab.research.google.com/github/alicexli/ai-webdev/blob/main/lessons/lesson-04/lesson-04.alicexli.ipynb)"
      ],
      "metadata": {
        "id": "IPgoWtoIJQOi"
      }
    },
    {
      "cell_type": "markdown",
      "source": [
        "This notebook is based on [this example](https://colab.research.google.com/github/Curt-Park/rainbow-is-all-you-need/blob/master/01.dqn.ipynb)\n",
        "and [this example](https://colab.research.google.com/github/ehennis/ReinforcementLearning/blob/master/05-DQN.ipynb#scrollTo=DPWjJiOZ2uVd)  \n"
      ],
      "metadata": {
        "id": "KPb9IjzQmKOU"
      }
    },
    {
      "cell_type": "markdown",
      "metadata": {
        "id": "Pf4_QpE72uVZ"
      },
      "source": [
        "<h1 align=\"center\">Reinforcement Learning (RL)</h1>"
      ]
    },
    {
      "cell_type": "markdown",
      "source": [
        "<center><img src=\"https://github.com/snsie/ai-webdev/blob/main/images/what-is-reinforcement-learning.png?raw=true\" width='320px'/></center>\n"
      ],
      "metadata": {
        "id": "VqGHxllEo3h7"
      }
    },
    {
      "cell_type": "markdown",
      "source": [
        "###Environment\n",
        "  * The stage that contains the simulation\n",
        "\n",
        "<br/>\n",
        "\n",
        "###Agent\n",
        "  * The entity making decisions\n",
        "  * Can be represented as a neural network\n",
        "\n",
        "<br/>\n",
        "\n",
        "###States\n",
        "* Set of observations that agents that can be performed by the agent\n",
        "* example: agent's position\n",
        "\n",
        "<br/>\n",
        "\n",
        "###Actions\n",
        "* Set of activities that can be performed by the agent\n",
        "* example: move right, move left\n",
        "\n",
        "<br/>\n",
        "\n",
        "###Rewards\n",
        "* Provides agents feedback about their performance\n"
      ],
      "metadata": {
        "id": "sdedL4816Qp5"
      }
    },
    {
      "cell_type": "markdown",
      "source": [
        "<center><h1>Cart Pole Example</h1></center>\n",
        "\n",
        "---\n",
        "\n",
        "<center><h4>the cart's goal: balance the pole</h4></center>\n",
        "\n",
        "\n",
        "[Gym Docs](https://www.gymlibrary.ml/environments/classic_control/cart_pole/)"
      ],
      "metadata": {
        "id": "P12W_YPa09UE"
      }
    },
    {
      "cell_type": "markdown",
      "source": [
        "|Bad Cart          |  Good Cart  |\n",
        "|:-------------------------:|:-------------------------:|\n",
        "| <img src='https://github.com/snsie/ai-webdev/blob/main/images/cartpole-initial.gif?raw=true' width=\"300\"/>  | <img src='https://github.com/snsie/ai-webdev/blob/main/images/cartpole-trained.gif?raw=true' width=\"300\"/> |"
      ],
      "metadata": {
        "id": "A-YYa0w41cqt"
      }
    },
    {
      "cell_type": "markdown",
      "metadata": {
        "id": "Z2Fqe9TO2uVd"
      },
      "source": [
        "<center><h3><u>Actions</u></h3></center>\n",
        "\n",
        "| Num | Action                 |\n",
        "|-----|------------------------|\n",
        "| 0   | Push cart to the left  |\n",
        "| 1   | Push cart to the right |\n",
        "\n",
        "<br/>\n",
        "<br/>\n",
        "\n",
        "<center><h3><u>States</u></h3></center>\n",
        "\n",
        "| Num | Observation           | Min                 | Max               |\n",
        "|-----|-----------------------|:-------------------|:-----------------|\n",
        "| 0   | Cart Position         | -4.8                | 4.8               |\n",
        "| 1   | Cart Velocity         | -Inf                | Inf               |\n",
        "| 2   | Pole Angle            | ~ -0.418 rad (-24°) | ~ 0.418 rad (24°) |\n",
        "| 3   | Pole Angular Velocity | -Inf                | Inf               |\n",
        "\n",
        "<br/>\n",
        "\n",
        "[Cart Pole Python File](https://github.com/openai/gym/blob/master/gym/envs/classic_control/cartpole.py)"
      ]
    },
    {
      "cell_type": "markdown",
      "source": [
        "RL Algorithm to be used in this example:\n",
        "\n",
        "<center><h1>Q-learning</h1></center>\n",
        "\n",
        "<br/>\n",
        "\n",
        "<h4>\n",
        "\\begin{align}\n",
        "Q(s,a) = r(s,a) + \\gamma \\cdot \\max_{a} Q(s',a')\n",
        "\\end{align}\n",
        "</h4>\n",
        "\n",
        "<br/>\n",
        "\n",
        "###$Q(s,a)$ = Q-value\n",
        "\n",
        "###$r(s,a)$ = reward for current action\n",
        "\n",
        "###$\\gamma$ = parameter that scales: $\\max_{a}Q(s',a')$\n",
        "\n",
        "###$\\max_{a}Q(s',a')$ = Maximum Q-value predicted in the next state \n",
        "\n",
        "<br/>\n",
        "\n",
        "---"
      ],
      "metadata": {
        "id": "u1IqACZf-7yG"
      }
    },
    {
      "cell_type": "markdown",
      "source": [
        "<h3>Long term interpretation of Q:</h3>\n",
        "<h3>\n",
        "$$\n",
        "Q(s_t,a_t) = r(t) + \\gamma \\cdot r(t+1) + \\gamma^2 \\cdot r(t+2) +  \\gamma^3 \\cdot r(t+3) \\ ...\n",
        "$$\n",
        "</h3>"
      ],
      "metadata": {
        "id": "EtMh6rUaKpep"
      }
    },
    {
      "cell_type": "markdown",
      "source": [
        "**Reference**  \n",
        "Mnih, V., Kavukcuoglu, K., Silver, D., Rusu, A. A., Veness, J., Bellemare, M. G., ... & Petersen, S. (2015). *Human-level control through deep reinforcement learning*. Nature, 518(7540), 529"
      ],
      "metadata": {
        "id": "vJM_vfH8gSf9"
      }
    },
    {
      "cell_type": "code",
      "source": [
        "import sys\n",
        "IN_COLAB = \"google.colab\" in sys.modules\n",
        "\n",
        "if IN_COLAB:\n",
        "    !apt install python-opengl\n",
        "    !apt install ffmpeg\n",
        "    !apt install xvfb\n",
        "    !pip install PyVirtualDisplay==3.0\n",
        "    !pip install gym==0.21.0\n",
        "    from pyvirtualdisplay import Display\n",
        "    \n",
        "    # Start virtual display\n",
        "    dis = Display(visible=0, size=(400, 400))\n",
        "    dis.start()"
      ],
      "metadata": {
        "id": "KtRw868MHSEj",
        "outputId": "d581c3a9-d78a-49cb-90b3-449bb51c400f",
        "colab": {
          "base_uri": "https://localhost:8080/"
        }
      },
      "execution_count": 10,
      "outputs": [
        {
          "output_type": "stream",
          "name": "stdout",
          "text": [
            "Reading package lists... Done\n",
            "Building dependency tree       \n",
            "Reading state information... Done\n",
            "python-opengl is already the newest version (3.1.0+dfsg-1).\n",
            "The following package was automatically installed and is no longer required:\n",
            "  libnvidia-common-460\n",
            "Use 'apt autoremove' to remove it.\n",
            "0 upgraded, 0 newly installed, 0 to remove and 49 not upgraded.\n",
            "Reading package lists... Done\n",
            "Building dependency tree       \n",
            "Reading state information... Done\n",
            "ffmpeg is already the newest version (7:3.4.11-0ubuntu0.1).\n",
            "The following package was automatically installed and is no longer required:\n",
            "  libnvidia-common-460\n",
            "Use 'apt autoremove' to remove it.\n",
            "0 upgraded, 0 newly installed, 0 to remove and 49 not upgraded.\n",
            "Reading package lists... Done\n",
            "Building dependency tree       \n",
            "Reading state information... Done\n",
            "xvfb is already the newest version (2:1.19.6-1ubuntu4.11).\n",
            "The following package was automatically installed and is no longer required:\n",
            "  libnvidia-common-460\n",
            "Use 'apt autoremove' to remove it.\n",
            "0 upgraded, 0 newly installed, 0 to remove and 49 not upgraded.\n",
            "Looking in indexes: https://pypi.org/simple, https://us-python.pkg.dev/colab-wheels/public/simple/\n",
            "Requirement already satisfied: PyVirtualDisplay==3.0 in /usr/local/lib/python3.7/dist-packages (3.0)\n",
            "Looking in indexes: https://pypi.org/simple, https://us-python.pkg.dev/colab-wheels/public/simple/\n",
            "Requirement already satisfied: gym==0.21.0 in /usr/local/lib/python3.7/dist-packages (0.21.0)\n",
            "Requirement already satisfied: numpy>=1.18.0 in /usr/local/lib/python3.7/dist-packages (from gym==0.21.0) (1.21.6)\n",
            "Requirement already satisfied: importlib-metadata>=4.8.1 in /usr/local/lib/python3.7/dist-packages (from gym==0.21.0) (4.12.0)\n",
            "Requirement already satisfied: cloudpickle>=1.2.0 in /usr/local/lib/python3.7/dist-packages (from gym==0.21.0) (1.3.0)\n",
            "Requirement already satisfied: zipp>=0.5 in /usr/local/lib/python3.7/dist-packages (from importlib-metadata>=4.8.1->gym==0.21.0) (3.8.1)\n",
            "Requirement already satisfied: typing-extensions>=3.6.4 in /usr/local/lib/python3.7/dist-packages (from importlib-metadata>=4.8.1->gym==0.21.0) (4.1.1)\n"
          ]
        }
      ]
    },
    {
      "cell_type": "code",
      "execution_count": 11,
      "metadata": {
        "id": "DPWjJiOZ2uVd"
      },
      "outputs": [],
      "source": [
        "import os\n",
        "from typing import Dict, List, Tuple\n",
        "\n",
        "import gym\n",
        "import matplotlib.pyplot as plt\n",
        "import numpy as np\n",
        "import torch\n",
        "import torch.nn as nn\n",
        "import torch.nn.functional as F\n",
        "import torch.optim as optim\n",
        "from IPython.display import clear_output,HTML, display\n",
        "import base64\n",
        "import glob\n",
        "import io"
      ]
    },
    {
      "cell_type": "markdown",
      "source": [
        "## Network\n",
        "\n",
        "We are going to use a simple network architecture with three fully connected layers and two non-linearity functions (ReLU)."
      ],
      "metadata": {
        "id": "hyKWUadCZASY"
      }
    },
    {
      "cell_type": "code",
      "source": [
        "### Create a neural network class \n",
        "class Network(nn.Module):\n",
        "  def __init__(self, in_dim:int, out_dim:int, num_hn:int):\n",
        "    super(Network, self).__init__()\n",
        "\n",
        "    self.layers = nn.Sequential(\n",
        "        nn.Linear(in_dim,num_hn),\n",
        "        nn.ReLU(),\n",
        "        nn.Linear(num_hn, num_hn),\n",
        "        nn.ReLU(),\n",
        "        nn.Linear(num_hn, out_dim)\n",
        "    )\n",
        "  def forward(self,x:torch.Tensor):\n",
        "    return self.layers(x)\n",
        "\n",
        "# cat = Network(2)\n",
        "# cat.printNumCats()"
      ],
      "metadata": {
        "id": "KVleneWxZqGq"
      },
      "execution_count": 14,
      "outputs": []
    },
    {
      "cell_type": "markdown",
      "source": [
        "## Replay buffer\n",
        "\n",
        "Typically, people implement replay buffers with one of the following three data structures:\n",
        "\n",
        "  - collections.deque\n",
        "  - list\n",
        "  - numpy.ndarray\n",
        "  \n",
        "**deque** is very easy to handle once you initialize its maximum length (e.g. deque(maxlen=buffer_size)). However, the indexing operation of deque gets terribly slow as it grows up because it is [internally doubly linked list](https://wiki.python.org/moin/TimeComplexity#collections.deque). On the other hands, **list** is an array, so it is relatively faster than deque when you sample batches at every step. Its amortized cost of  *Get item* is [O(1)](https://wiki.python.org/moin/TimeComplexity#list).\n",
        "\n",
        "Last but not least, let's see **numpy.ndarray**. numpy.ndarray is even faster than list due to the fact that it is [a homogeneous array of fixed-size items](https://docs.scipy.org/doc/numpy/reference/generated/numpy.ndarray.html#numpy.ndarray), so you can get the benefits of [locality of reference](https://en.wikipedia.org/wiki/Locality_of_reference). Whereas list is an array of pointers to objects, even when all of them are of the same type.\n",
        "\n",
        "Here, we are going to implement a replay buffer using numpy.ndarray.\n",
        "\n",
        "\n",
        "Reference: [OpenAI spinning-up](https://github.com/openai/spinningup/blob/master/spinup/algos/sac/sac.py#L10)"
      ],
      "metadata": {
        "id": "rj0SrJzkY5xY"
      }
    },
    {
      "cell_type": "code",
      "execution_count": 16,
      "metadata": {
        "id": "7CsaVrbA2uVp"
      },
      "outputs": [],
      "source": [
        "#Create ReplayBuffer Class\n",
        "class ReplayBuffer:\n",
        "    \"\"\"A simple numpy replay buffer.\"\"\"\n",
        "\n",
        "    def __init__(self, obs_dim: int, size: int, batch_size: int = 32):\n",
        "        self.obs_buf = np.zeros([size, obs_dim], dtype=np.float32)\n",
        "        self.next_obs_buf = np.zeros([size, obs_dim], dtype=np.float32)\n",
        "        self.acts_buf = np.zeros([size], dtype=np.float32)\n",
        "        self.rews_buf = np.zeros([size], dtype=np.float32)\n",
        "        self.done_buf = np.zeros(size, dtype=np.float32)\n",
        "        self.max_size, self.batch_size = size, batch_size\n",
        "        self.ptr, self.size, = 0, 0\n",
        "\n",
        "    def store(\n",
        "        self,\n",
        "        obs: np.ndarray,\n",
        "        act: np.ndarray, \n",
        "        rew: float, \n",
        "        next_obs: np.ndarray, \n",
        "        done: bool,\n",
        "    ):\n",
        "        self.obs_buf[self.ptr] = obs\n",
        "        self.next_obs_buf[self.ptr] = next_obs\n",
        "        self.acts_buf[self.ptr] = act\n",
        "        self.rews_buf[self.ptr] = rew\n",
        "        self.done_buf[self.ptr] = done\n",
        "        self.ptr = (self.ptr + 1) % self.max_size\n",
        "        self.size = min(self.size + 1, self.max_size)\n",
        "\n",
        "    def sample_batch(self) -> Dict[str, np.ndarray]:\n",
        "        idxs = np.random.choice(self.size, size=self.batch_size, replace=False)\n",
        "        return dict(obs=self.obs_buf[idxs],\n",
        "                    next_obs=self.next_obs_buf[idxs],\n",
        "                    acts=self.acts_buf[idxs],\n",
        "                    rews=self.rews_buf[idxs],\n",
        "                    done=self.done_buf[idxs])\n",
        "\n",
        "    def __len__(self) -> int:\n",
        "        return self.size"
      ]
    },
    {
      "cell_type": "markdown",
      "source": [
        "## DQN Agent\n",
        "\n",
        "Here is a summary of DQNAgent class.\n",
        "\n",
        "| Method           | Note                                                 |\n",
        "| ---              | ---                                                  |\n",
        "|select_action     | select an action from the input state.               |\n",
        "|step              | take an action and return the response of the env.   |\n",
        "|compute_dqn_loss  | return dqn loss.                                     |\n",
        "|update_model      | update the model by gradient descent.                |\n",
        "|target_hard_update| hard update from the local model to the target model.|\n",
        "|train             | train the agent during num_frames.                   |\n",
        "|test              | test the agent (1 episode).                          |\n",
        "|plot              | plot the training progresses.                        |\n"
      ],
      "metadata": {
        "id": "dx9OyOhCZKL4"
      }
    },
    {
      "cell_type": "code",
      "source": [
        "# Create DQNAgent class \n",
        "class DQNAgent:\n",
        "    \"\"\"DQN Agent interacting with environment.\n",
        "    \n",
        "    Attribute:\n",
        "        env (gym.Env): openAI Gym environment\n",
        "        memory (ReplayBuffer): replay memory to store transitions\n",
        "        batch_size (int): batch size for sampling\n",
        "        epsilon (float): parameter for epsilon greedy policy\n",
        "        epsilon_decay (float): step size to decrease epsilon\n",
        "        max_epsilon (float): max value of epsilon\n",
        "        min_epsilon (float): min value of epsilon\n",
        "        target_update (int): period for target model's hard update\n",
        "        gamma (float): discount factor\n",
        "        dqn (Network): model to train and select actions\n",
        "        dqn_target (Network): target model to update\n",
        "        optimizer (torch.optim): optimizer for training dqn\n",
        "        transition (list): transition information including \n",
        "                           state, action, reward, next_state, done\n",
        "    \"\"\"\n",
        "\n",
        "    def __init__(\n",
        "        self, \n",
        "        env: gym.Env,\n",
        "        num_hidden_nodes:int,\n",
        "        memory_size: int,\n",
        "        batch_size: int,\n",
        "        target_update: int,\n",
        "        epsilon_decay: float,\n",
        "        max_epsilon: float = 1.0,\n",
        "        min_epsilon: float = 0.1,\n",
        "        gamma: float = 0.99,\n",
        "    ):\n",
        "        \"\"\"Initialization.\n",
        "        \n",
        "        Args:\n",
        "            env (gym.Env): openAI Gym environment\n",
        "            memory_size (int): length of memory\n",
        "            batch_size (int): batch size for sampling\n",
        "            target_update (int): period for target model's hard update\n",
        "            epsilon_decay (float): step size to decrease epsilon\n",
        "            lr (float): learning rate\n",
        "            max_epsilon (float): max value of epsilon\n",
        "            min_epsilon (float): min value of epsilon\n",
        "            gamma (float): discount factor\n",
        "        \"\"\"\n",
        "        obs_dim = env.observation_space.shape[0]\n",
        "        action_dim = env.action_space.n\n",
        "        \n",
        "        self.env = env\n",
        "        self.memory = ReplayBuffer(obs_dim, memory_size, batch_size)\n",
        "        self.batch_size = batch_size\n",
        "        self.epsilon = max_epsilon\n",
        "        self.epsilon_decay = epsilon_decay\n",
        "        self.max_epsilon = max_epsilon\n",
        "        self.min_epsilon = min_epsilon\n",
        "        self.target_update = target_update\n",
        "        self.gamma = gamma\n",
        "        \n",
        "        # device: cpu / gpu\n",
        "        self.device = torch.device(\n",
        "            \"cuda\" if torch.cuda.is_available() else \"cpu\"\n",
        "        )\n",
        "        print(self.device)\n",
        "\n",
        "        # networks: dqn, dqn_target\n",
        "        self.dqn = Network(obs_dim, action_dim,num_hidden_nodes).to(self.device)\n",
        "        self.dqn_target = Network(obs_dim, action_dim,num_hidden_nodes).to(self.device)\n",
        "        self.dqn_target.load_state_dict(self.dqn.state_dict())\n",
        "        self.dqn_target.eval()\n",
        "        print('params',self.dqn.parameters())\n",
        "        # optimizer\n",
        "        self.optimizer = optim.Adam(self.dqn.parameters(),lr=0.001)\n",
        "\n",
        "        # transition to store in memory\n",
        "        self.transition = list()\n",
        "        \n",
        "        # mode: train / test\n",
        "        self.is_test = False\n",
        "\n",
        "    def select_action(self, state: np.ndarray) -> np.ndarray:\n",
        "        \"\"\"Select an action from the input state.\"\"\"\n",
        "        # epsilon greedy policy\n",
        "        if self.epsilon > np.random.random():\n",
        "            selected_action = self.env.action_space.sample()\n",
        "        else:\n",
        "            selected_action = self.dqn(\n",
        "                torch.FloatTensor(state).to(self.device)\n",
        "            ).argmax()\n",
        "            selected_action = selected_action.detach().cpu().numpy()\n",
        "        \n",
        "        if not self.is_test:\n",
        "            self.transition = [state, selected_action]\n",
        "        \n",
        "        return selected_action\n",
        "\n",
        "    def step(self, action: np.ndarray) -> Tuple[np.ndarray, np.float64, bool]:\n",
        "        \"\"\"Take an action and return the response of the env.\"\"\"\n",
        "        next_state, reward, done, _ = self.env.step(action)\n",
        "\n",
        "        if not self.is_test:\n",
        "            self.transition += [reward, next_state, done]\n",
        "            self.memory.store(*self.transition)\n",
        "    \n",
        "        return next_state, reward, done\n",
        "\n",
        "    def update_model(self) -> torch.Tensor:\n",
        "        \"\"\"Update the model by gradient descent.\"\"\"\n",
        "        samples = self.memory.sample_batch()\n",
        "\n",
        "        loss = self._compute_dqn_loss(samples)\n",
        "\n",
        "        self.optimizer.zero_grad()\n",
        "        loss.backward()\n",
        "        self.optimizer.step()\n",
        "\n",
        "        return loss.item()\n",
        "        \n",
        "    def train(self, num_frames: int, plotting_interval: int = 200):\n",
        "        \"\"\"Train the agent.\"\"\"\n",
        "        self.is_test = False\n",
        "        \n",
        "        state = self.env.reset()\n",
        "        update_cnt = 0\n",
        "        epsilons = []\n",
        "        losses = []\n",
        "        scores = []\n",
        "        score = 0\n",
        "\n",
        "        for frame_idx in range(1, num_frames + 1):\n",
        "            action = self.select_action(state)\n",
        "            next_state, reward, done = self.step(action)\n",
        "\n",
        "            state = next_state\n",
        "            score += reward\n",
        "\n",
        "            # if episode ends\n",
        "            if done:\n",
        "                state = self.env.reset()\n",
        "                scores.append(score)\n",
        "                score = 0\n",
        "\n",
        "            # if training is ready\n",
        "            if len(self.memory) >= self.batch_size:\n",
        "                loss = self.update_model()\n",
        "                losses.append(loss)\n",
        "                update_cnt += 1\n",
        "                \n",
        "                # linearly decrease epsilon\n",
        "                self.epsilon = max(\n",
        "                    self.min_epsilon, self.epsilon - (\n",
        "                        self.max_epsilon - self.min_epsilon\n",
        "                    ) * self.epsilon_decay\n",
        "                )\n",
        "                epsilons.append(self.epsilon)\n",
        "                \n",
        "                # if hard update is needed\n",
        "                if update_cnt % self.target_update == 0:\n",
        "                    self._target_hard_update()\n",
        "\n",
        "            # plotting\n",
        "            if frame_idx % plotting_interval == 0:\n",
        "                self._plot(frame_idx, scores, losses, epsilons)\n",
        "                \n",
        "        self.env.close()\n",
        "                \n",
        "    def test(self, video_folder: str) -> None:\n",
        "        \"\"\"Test the agent.\"\"\"\n",
        "        self.is_test = True\n",
        "        \n",
        "        # for recording a video\n",
        "        naive_env = self.env\n",
        "        self.env = gym.wrappers.RecordVideo(self.env, video_folder=video_folder)\n",
        "        \n",
        "        state = self.env.reset()\n",
        "        done = False\n",
        "        score = 0\n",
        "        \n",
        "        while not done:\n",
        "            action = self.select_action(state)\n",
        "            next_state, reward, done = self.step(action)\n",
        "\n",
        "            state = next_state\n",
        "            score += reward\n",
        "        \n",
        "        print(\"score: \", score)\n",
        "        self.env.close()\n",
        "        \n",
        "        # reset\n",
        "        self.env = naive_env\n",
        "\n",
        "    def _compute_dqn_loss(self, samples: Dict[str, np.ndarray]) -> torch.Tensor:\n",
        "        \"\"\"Return dqn loss.\"\"\"\n",
        "        device = self.device  # for shortening the following lines\n",
        "        state = torch.FloatTensor(samples[\"obs\"]).to(device)\n",
        "        next_state = torch.FloatTensor(samples[\"next_obs\"]).to(device)\n",
        "        action = torch.LongTensor(samples[\"acts\"].reshape(-1, 1)).to(device)\n",
        "        reward = torch.FloatTensor(samples[\"rews\"].reshape(-1, 1)).to(device)\n",
        "        done = torch.FloatTensor(samples[\"done\"].reshape(-1, 1)).to(device)\n",
        "\n",
        "        # G_t   = r + gamma * v(s_{t+1})  if state != Terminal\n",
        "        #       = r                       otherwise\n",
        "        curr_q_value = self.dqn(state).gather(1, action)\n",
        "        next_q_value = self.dqn_target(\n",
        "            next_state\n",
        "        ).max(dim=1, keepdim=True)[0].detach()\n",
        "        mask = 1 - done\n",
        "        target = (reward + self.gamma * next_q_value * mask).to(self.device)\n",
        "        # print(target)\n",
        "        # calculate dqn loss\n",
        "        loss = F.smooth_l1_loss(curr_q_value, target)\n",
        "\n",
        "        return loss\n",
        "\n",
        "    def _target_hard_update(self):\n",
        "        \"\"\"Hard update: target <- local.\"\"\"\n",
        "        self.dqn_target.load_state_dict(self.dqn.state_dict())\n",
        "                \n",
        "    def _plot(\n",
        "        self, \n",
        "        frame_idx: int, \n",
        "        scores: List[float], \n",
        "        losses: List[float], \n",
        "        epsilons: List[float],\n",
        "    ):\n",
        "        \"\"\"Plot the training progresses.\"\"\"\n",
        "        clear_output(True)\n",
        "        plt.figure(figsize=(20, 5))\n",
        "        plt.subplot(131)\n",
        "        plt.title('frame %s. score: %s' % (frame_idx, np.mean(scores[-10:])))\n",
        "        plt.plot(scores)\n",
        "        plt.subplot(132)\n",
        "        plt.title('loss')\n",
        "        plt.plot(losses)\n",
        "        plt.subplot(133)\n",
        "        plt.title('epsilons')\n",
        "        plt.plot(epsilons)\n",
        "        plt.show()"
      ],
      "metadata": {
        "id": "YVbtpCYqZGv7"
      },
      "execution_count": 17,
      "outputs": []
    },
    {
      "cell_type": "markdown",
      "source": [
        "#Create the environment"
      ],
      "metadata": {
        "id": "if11YIXAf_dG"
      }
    },
    {
      "cell_type": "code",
      "execution_count": 18,
      "metadata": {
        "id": "uFZuVbZz2uVq"
      },
      "outputs": [],
      "source": [
        "# set the environment\n",
        "env_id = \"CartPole-v0\"\n",
        "env = gym.make(env_id)"
      ]
    },
    {
      "cell_type": "markdown",
      "source": [
        "#Set parameters for experiment"
      ],
      "metadata": {
        "id": "8yoJpvcXgCEL"
      }
    },
    {
      "cell_type": "code",
      "execution_count": 19,
      "metadata": {
        "id": "yianM-dx2uVn"
      },
      "outputs": [],
      "source": [
        "# create params\n",
        "num_frames = 10000\n",
        "memory_size = 1000\n",
        "batch_size = 32\n",
        "target_update = 100\n",
        "epsilon_decay = 1 / 2000\n",
        "num_hidden_nodes=128\n",
        "video_folder=\"videos\"\n"
      ]
    },
    {
      "cell_type": "code",
      "source": [
        "#Initialize the agent using the DQN class\n",
        "agent = DQNAgent(env,num_hidden_nodes, memory_size, batch_size, target_update, epsilon_decay)"
      ],
      "metadata": {
        "id": "VUt0odA2kuSl",
        "outputId": "144bf334-41e0-442b-eafd-54b40134319c",
        "colab": {
          "base_uri": "https://localhost:8080/"
        }
      },
      "execution_count": 20,
      "outputs": [
        {
          "output_type": "stream",
          "name": "stdout",
          "text": [
            "cpu\n",
            "params <generator object Module.parameters at 0x7f5149d01ad0>\n"
          ]
        }
      ]
    },
    {
      "cell_type": "markdown",
      "source": [
        "#Train"
      ],
      "metadata": {
        "id": "BPu85nk2ZfJa"
      }
    },
    {
      "cell_type": "code",
      "execution_count": 21,
      "metadata": {
        "id": "azVNSMYa2uVq",
        "outputId": "b51eb374-2143-42c3-c386-058648e7d4ce",
        "colab": {
          "base_uri": "https://localhost:8080/",
          "height": 336
        }
      },
      "outputs": [
        {
          "output_type": "display_data",
          "data": {
            "text/plain": [
              "<Figure size 1440x360 with 3 Axes>"
            ],
            "image/png": "[encoded data removed]"
          },
          "metadata": {
            "needs_background": "light"
          }
        }
      ],
      "source": [
        "# train the agent\n",
        "agent.train(num_frames)"
      ]
    },
    {
      "cell_type": "markdown",
      "source": [
        "#Test the network and export video of agent's actions"
      ],
      "metadata": {
        "id": "oUsgqvzyZh8q"
      }
    },
    {
      "cell_type": "code",
      "execution_count": 22,
      "metadata": {
        "id": "EomjmDOb2uVn",
        "outputId": "7b6f0246-124e-4d5b-a907-d7e326483e3a",
        "colab": {
          "base_uri": "https://localhost:8080/"
        }
      },
      "outputs": [
        {
          "output_type": "stream",
          "name": "stdout",
          "text": [
            "score:  182.0\n"
          ]
        }
      ],
      "source": [
        "# create the video_folder var\n",
        "agent.test(video_folder=video_folder)"
      ]
    },
    {
      "cell_type": "code",
      "source": [
        "## create the functions to display the test video in colab\n",
        "\n",
        "\n",
        "def ipython_show_video(path: str) -> None:\n",
        "    \"\"\"Show a video at `path` within IPython Notebook.\"\"\"\n",
        "    if not os.path.isfile(path):\n",
        "        raise NameError(\"Cannot access: {}\".format(path))\n",
        "\n",
        "    video = io.open(path, \"r+b\").read()\n",
        "    encoded = base64.b64encode(video)\n",
        "\n",
        "    display(HTML(\n",
        "        data=\"\"\"\n",
        "        <video width=\"320\" height=\"240\" alt=\"test\" controls>\n",
        "        <source src=\"data:video/mp4;base64,{0}\" type=\"video/mp4\"/>\n",
        "        </video>\n",
        "        \"\"\".format(encoded.decode(\"ascii\"))\n",
        "    ))\n",
        "\n",
        "\n",
        "def show_latest_video(video_folder: str) -> str:\n",
        "    \"\"\"Show the most recently recorded video from video folder.\"\"\"\n",
        "    list_of_files = glob.glob(os.path.join(video_folder, \"*.mp4\"))\n",
        "    latest_file = max(list_of_files, key=os.path.getctime)\n",
        "    ipython_show_video(latest_file)\n",
        "    return latest_file\n",
        "\n",
        "\n",
        "latest_file = show_latest_video(video_folder=video_folder)\n",
        "print(\"Played:\", latest_file)"
      ],
      "metadata": {
        "id": "sTQ7xo9DZUKb",
        "outputId": "25f8dc39-8b5d-4ca0-eaff-13a3b9175047",
        "colab": {
          "base_uri": "https://localhost:8080/",
          "height": 278
        }
      },
      "execution_count": 23,
      "outputs": [
        {
          "output_type": "display_data",
          "data": {
            "text/plain": [
              "<IPython.core.display.HTML object>"
            ],
            "text/html": [
              "\n",
              "        <video width=\"320\" height=\"240\" alt=\"test\" controls>\n",
              "        <source src=\"data:video/mp4;base64,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\" type=\"video/mp4\"/>\n",
              "        </video>\n",
              "        "
            ]
          },
          "metadata": {}
        },
        {
          "output_type": "stream",
          "name": "stdout",
          "text": [
            "Played: videos/rl-video-episode-0.mp4\n"
          ]
        }
      ]
    },
    {
      "cell_type": "code",
      "source": [
        ""
      ],
      "metadata": {
        "id": "zJM-hU0bjg3Z"
      },
      "execution_count": null,
      "outputs": []
    }
  ],
  "metadata": {
    "kernelspec": {
      "display_name": "Python 3",
      "name": "python3"
    },
    "language_info": {
      "name": "python"
    },
    "colab": {
      "name": "lesson-04.ipynb",
      "provenance": [],
      "collapsed_sections": []
    },
    "gpuClass": "standard"
  },
  "nbformat": 4,
  "nbformat_minor": 0
}