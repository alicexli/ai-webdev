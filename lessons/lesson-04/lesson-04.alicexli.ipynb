{
  "cells": [
    {
      "cell_type": "markdown",
      "source": [
        "<center><h1>AI in Web Development</h1></center>\n",
        "\n",
        "---\n",
        "\n",
        "<center><h2>Lesson 04</h2></center>\n",
        "\n",
        "\n",
        "[![Open In Colab](https://colab.research.google.com/assets/colab-badge.svg)](https://colab.research.google.com/github/alicexli/ai-webdev/blob/main/lessons/lesson-04/lesson-04.alicexli.ipynb)"
      ],
      "metadata": {
        "id": "IPgoWtoIJQOi"
      }
    },
    {
      "cell_type": "markdown",
      "source": [
        "This notebook is based on [this example](https://colab.research.google.com/github/Curt-Park/rainbow-is-all-you-need/blob/master/01.dqn.ipynb)\n",
        "and [this example](https://colab.research.google.com/github/ehennis/ReinforcementLearning/blob/master/05-DQN.ipynb#scrollTo=DPWjJiOZ2uVd)  \n"
      ],
      "metadata": {
        "id": "KPb9IjzQmKOU"
      }
    },
    {
      "cell_type": "markdown",
      "metadata": {
        "id": "Pf4_QpE72uVZ"
      },
      "source": [
        "<h1 align=\"center\">Reinforcement Learning (RL)</h1>"
      ]
    },
    {
      "cell_type": "markdown",
      "source": [
        "<center><img src=\"https://github.com/snsie/ai-webdev/blob/main/images/what-is-reinforcement-learning.png?raw=true\" width='320px'/></center>\n"
      ],
      "metadata": {
        "id": "VqGHxllEo3h7"
      }
    },
    {
      "cell_type": "markdown",
      "source": [
        "###Environment\n",
        "  * The stage that contains the simulation\n",
        "\n",
        "<br/>\n",
        "\n",
        "###Agent\n",
        "  * The entity making decisions\n",
        "  * Can be represented as a neural network\n",
        "\n",
        "<br/>\n",
        "\n",
        "###States\n",
        "* Set of observations that agents that can be performed by the agent\n",
        "* example: agent's position\n",
        "\n",
        "<br/>\n",
        "\n",
        "###Actions\n",
        "* Set of activities that can be performed by the agent\n",
        "* example: move right, move left\n",
        "\n",
        "<br/>\n",
        "\n",
        "###Rewards\n",
        "* Provides agents feedback about their performance\n"
      ],
      "metadata": {
        "id": "sdedL4816Qp5"
      }
    },
    {
      "cell_type": "markdown",
      "source": [
        "<center><h1>Cart Pole Example</h1></center>\n",
        "\n",
        "---\n",
        "\n",
        "<center><h4>the cart's goal: balance the pole</h4></center>\n",
        "\n",
        "\n",
        "[Gym Docs](https://www.gymlibrary.ml/environments/classic_control/cart_pole/)"
      ],
      "metadata": {
        "id": "P12W_YPa09UE"
      }
    },
    {
      "cell_type": "markdown",
      "source": [
        "|Bad Cart          |  Good Cart  |\n",
        "|:-------------------------:|:-------------------------:|\n",
        "| <img src='https://github.com/snsie/ai-webdev/blob/main/images/cartpole-initial.gif?raw=true' width=\"300\"/>  | <img src='https://github.com/snsie/ai-webdev/blob/main/images/cartpole-trained.gif?raw=true' width=\"300\"/> |"
      ],
      "metadata": {
        "id": "A-YYa0w41cqt"
      }
    },
    {
      "cell_type": "markdown",
      "metadata": {
        "id": "Z2Fqe9TO2uVd"
      },
      "source": [
        "<center><h3><u>Actions</u></h3></center>\n",
        "\n",
        "| Num | Action                 |\n",
        "|-----|------------------------|\n",
        "| 0   | Push cart to the left  |\n",
        "| 1   | Push cart to the right |\n",
        "\n",
        "<br/>\n",
        "<br/>\n",
        "\n",
        "<center><h3><u>States</u></h3></center>\n",
        "\n",
        "| Num | Observation           | Min                 | Max               |\n",
        "|-----|-----------------------|:-------------------|:-----------------|\n",
        "| 0   | Cart Position         | -4.8                | 4.8               |\n",
        "| 1   | Cart Velocity         | -Inf                | Inf               |\n",
        "| 2   | Pole Angle            | ~ -0.418 rad (-24°) | ~ 0.418 rad (24°) |\n",
        "| 3   | Pole Angular Velocity | -Inf                | Inf               |\n",
        "\n",
        "<br/>\n",
        "\n",
        "[Cart Pole Python File](https://github.com/openai/gym/blob/master/gym/envs/classic_control/cartpole.py)"
      ]
    },
    {
      "cell_type": "markdown",
      "source": [
        "RL Algorithm to be used in this example:\n",
        "\n",
        "<center><h1>Q-learning</h1></center>\n",
        "\n",
        "<br/>\n",
        "\n",
        "<h4>\n",
        "\\begin{align}\n",
        "Q(s,a) = r(s,a) + \\gamma \\cdot \\max_{a} Q(s',a')\n",
        "\\end{align}\n",
        "</h4>\n",
        "\n",
        "<br/>\n",
        "\n",
        "###$Q(s,a)$ = Q-value\n",
        "\n",
        "###$r(s,a)$ = reward for current action\n",
        "\n",
        "###$\\gamma$ = parameter that scales: $\\max_{a}Q(s',a')$\n",
        "\n",
        "###$\\max_{a}Q(s',a')$ = Maximum Q-value predicted in the next state \n",
        "\n",
        "<br/>\n",
        "\n",
        "---"
      ],
      "metadata": {
        "id": "u1IqACZf-7yG"
      }
    },
    {
      "cell_type": "markdown",
      "source": [
        "<h3>Long term interpretation of Q:</h3>\n",
        "<h3>\n",
        "$$\n",
        "Q(s_t,a_t) = r(t) + \\gamma \\cdot r(t+1) + \\gamma^2 \\cdot r(t+2) +  \\gamma^3 \\cdot r(t+3) \\ ...\n",
        "$$\n",
        "</h3>"
      ],
      "metadata": {
        "id": "EtMh6rUaKpep"
      }
    },
    {
      "cell_type": "markdown",
      "source": [
        "**Reference**  \n",
        "Mnih, V., Kavukcuoglu, K., Silver, D., Rusu, A. A., Veness, J., Bellemare, M. G., ... & Petersen, S. (2015). *Human-level control through deep reinforcement learning*. Nature, 518(7540), 529"
      ],
      "metadata": {
        "id": "vJM_vfH8gSf9"
      }
    },
    {
      "cell_type": "code",
      "source": [
        "import sys\n",
        "IN_COLAB = \"google.colab\" in sys.modules\n",
        "\n",
        "if IN_COLAB:\n",
        "    !apt install python-opengl\n",
        "    !apt install ffmpeg\n",
        "    !apt install xvfb\n",
        "    !pip install PyVirtualDisplay==3.0\n",
        "    !pip install gym==0.21.0\n",
        "    from pyvirtualdisplay import Display\n",
        "    \n",
        "    # Start virtual display\n",
        "    dis = Display(visible=0, size=(400, 400))\n",
        "    dis.start()"
      ],
      "metadata": {
        "id": "KtRw868MHSEj",
        "outputId": "d38d637c-40cd-48cb-e97b-b79481b6ceb3",
        "colab": {
          "base_uri": "https://localhost:8080/"
        }
      },
      "execution_count": 1,
      "outputs": [
        {
          "output_type": "stream",
          "name": "stdout",
          "text": [
            "Reading package lists... Done\n",
            "Building dependency tree       \n",
            "Reading state information... Done\n",
            "The following package was automatically installed and is no longer required:\n",
            "  libnvidia-common-460\n",
            "Use 'apt autoremove' to remove it.\n",
            "Suggested packages:\n",
            "  libgle3\n",
            "The following NEW packages will be installed:\n",
            "  python-opengl\n",
            "0 upgraded, 1 newly installed, 0 to remove and 49 not upgraded.\n",
            "Need to get 496 kB of archives.\n",
            "After this operation, 5,416 kB of additional disk space will be used.\n",
            "Get:1 http://archive.ubuntu.com/ubuntu bionic/universe amd64 python-opengl all 3.1.0+dfsg-1 [496 kB]\n",
            "Fetched 496 kB in 0s (1,653 kB/s)\n",
            "Selecting previously unselected package python-opengl.\n",
            "(Reading database ... 155673 files and directories currently installed.)\n",
            "Preparing to unpack .../python-opengl_3.1.0+dfsg-1_all.deb ...\n",
            "Unpacking python-opengl (3.1.0+dfsg-1) ...\n",
            "Setting up python-opengl (3.1.0+dfsg-1) ...\n",
            "Reading package lists... Done\n",
            "Building dependency tree       \n",
            "Reading state information... Done\n",
            "ffmpeg is already the newest version (7:3.4.11-0ubuntu0.1).\n",
            "The following package was automatically installed and is no longer required:\n",
            "  libnvidia-common-460\n",
            "Use 'apt autoremove' to remove it.\n",
            "0 upgraded, 0 newly installed, 0 to remove and 49 not upgraded.\n",
            "Reading package lists... Done\n",
            "Building dependency tree       \n",
            "Reading state information... Done\n",
            "The following package was automatically installed and is no longer required:\n",
            "  libnvidia-common-460\n",
            "Use 'apt autoremove' to remove it.\n",
            "The following NEW packages will be installed:\n",
            "  xvfb\n",
            "0 upgraded, 1 newly installed, 0 to remove and 49 not upgraded.\n",
            "Need to get 785 kB of archives.\n",
            "After this operation, 2,271 kB of additional disk space will be used.\n",
            "Get:1 http://archive.ubuntu.com/ubuntu bionic-updates/universe amd64 xvfb amd64 2:1.19.6-1ubuntu4.11 [785 kB]\n",
            "Fetched 785 kB in 1s (594 kB/s)\n",
            "Selecting previously unselected package xvfb.\n",
            "(Reading database ... 158028 files and directories currently installed.)\n",
            "Preparing to unpack .../xvfb_2%3a1.19.6-1ubuntu4.11_amd64.deb ...\n",
            "Unpacking xvfb (2:1.19.6-1ubuntu4.11) ...\n",
            "Setting up xvfb (2:1.19.6-1ubuntu4.11) ...\n",
            "Processing triggers for man-db (2.8.3-2ubuntu0.1) ...\n",
            "Looking in indexes: https://pypi.org/simple, https://us-python.pkg.dev/colab-wheels/public/simple/\n",
            "Collecting PyVirtualDisplay==3.0\n",
            "  Downloading PyVirtualDisplay-3.0-py3-none-any.whl (15 kB)\n",
            "Installing collected packages: PyVirtualDisplay\n",
            "Successfully installed PyVirtualDisplay-3.0\n",
            "Looking in indexes: https://pypi.org/simple, https://us-python.pkg.dev/colab-wheels/public/simple/\n",
            "Collecting gym==0.21.0\n",
            "  Downloading gym-0.21.0.tar.gz (1.5 MB)\n",
            "\u001b[K     |████████████████████████████████| 1.5 MB 5.1 MB/s \n",
            "\u001b[?25hRequirement already satisfied: numpy>=1.18.0 in /usr/local/lib/python3.7/dist-packages (from gym==0.21.0) (1.21.6)\n",
            "Requirement already satisfied: cloudpickle>=1.2.0 in /usr/local/lib/python3.7/dist-packages (from gym==0.21.0) (1.3.0)\n",
            "Requirement already satisfied: importlib_metadata>=4.8.1 in /usr/local/lib/python3.7/dist-packages (from gym==0.21.0) (4.12.0)\n",
            "Requirement already satisfied: typing-extensions>=3.6.4 in /usr/local/lib/python3.7/dist-packages (from importlib_metadata>=4.8.1->gym==0.21.0) (4.1.1)\n",
            "Requirement already satisfied: zipp>=0.5 in /usr/local/lib/python3.7/dist-packages (from importlib_metadata>=4.8.1->gym==0.21.0) (3.8.1)\n",
            "Building wheels for collected packages: gym\n",
            "  Building wheel for gym (setup.py) ... \u001b[?25l\u001b[?25hdone\n",
            "  Created wheel for gym: filename=gym-0.21.0-py3-none-any.whl size=1616827 sha256=bd6aea35c3a902072c6c013db72bec3d8abf089c780afd86914d22fed71e1cdb\n",
            "  Stored in directory: /root/.cache/pip/wheels/76/ee/9c/36bfe3e079df99acf5ae57f4e3464ff2771b34447d6d2f2148\n",
            "Successfully built gym\n",
            "Installing collected packages: gym\n",
            "  Attempting uninstall: gym\n",
            "    Found existing installation: gym 0.17.3\n",
            "    Uninstalling gym-0.17.3:\n",
            "      Successfully uninstalled gym-0.17.3\n",
            "Successfully installed gym-0.21.0\n"
          ]
        }
      ]
    },
    {
      "cell_type": "code",
      "execution_count": 3,
      "metadata": {
        "id": "DPWjJiOZ2uVd"
      },
      "outputs": [],
      "source": [
        "import os\n",
        "from typing import Dict, List, Tuple\n",
        "\n",
        "import gym\n",
        "import matplotlib.pyplot as plt\n",
        "import numpy as np\n",
        "import torch\n",
        "import torch.nn as nn\n",
        "import torch.nn.functional as F\n",
        "import torch.optim as optim\n",
        "from IPython.display import clear_output,HTML, display\n",
        "import base64\n",
        "import glob\n",
        "import io"
      ]
    },
    {
      "cell_type": "markdown",
      "source": [
        "## Network\n",
        "\n",
        "We are going to use a simple network architecture with three fully connected layers and two non-linearity functions (ReLU)."
      ],
      "metadata": {
        "id": "hyKWUadCZASY"
      }
    },
    {
      "cell_type": "code",
      "source": [
        "### Create a neural network class \n",
        "class Network(nn.Module):\n",
        "  def __init__(self, in_dim:int, out_dim:int, num_hn:int):\n",
        "    super(Network, self).__init__()\n",
        "\n",
        "    self.layers = nn.Sequential(\n",
        "        nn.Linear(in_dim,num_hn),\n",
        "        nn.ReLU(),\n",
        "        nn.Linear(num_hn, num_hn),\n",
        "        nn.ReLU(),\n",
        "        nn.Linear(num_hn, out_dim)\n",
        "    )\n",
        "  def forward(self,x:torch.Tensor):\n",
        "    return self.layers(x)\n",
        "\n",
        "# cat = Network(2)\n",
        "# cat.printNumCats()"
      ],
      "metadata": {
        "id": "KVleneWxZqGq"
      },
      "execution_count": 4,
      "outputs": []
    },
    {
      "cell_type": "markdown",
      "source": [
        "## Replay buffer\n",
        "\n",
        "Typically, people implement replay buffers with one of the following three data structures:\n",
        "\n",
        "  - collections.deque\n",
        "  - list\n",
        "  - numpy.ndarray\n",
        "  \n",
        "**deque** is very easy to handle once you initialize its maximum length (e.g. deque(maxlen=buffer_size)). However, the indexing operation of deque gets terribly slow as it grows up because it is [internally doubly linked list](https://wiki.python.org/moin/TimeComplexity#collections.deque). On the other hands, **list** is an array, so it is relatively faster than deque when you sample batches at every step. Its amortized cost of  *Get item* is [O(1)](https://wiki.python.org/moin/TimeComplexity#list).\n",
        "\n",
        "Last but not least, let's see **numpy.ndarray**. numpy.ndarray is even faster than list due to the fact that it is [a homogeneous array of fixed-size items](https://docs.scipy.org/doc/numpy/reference/generated/numpy.ndarray.html#numpy.ndarray), so you can get the benefits of [locality of reference](https://en.wikipedia.org/wiki/Locality_of_reference). Whereas list is an array of pointers to objects, even when all of them are of the same type.\n",
        "\n",
        "Here, we are going to implement a replay buffer using numpy.ndarray.\n",
        "\n",
        "\n",
        "Reference: [OpenAI spinning-up](https://github.com/openai/spinningup/blob/master/spinup/algos/sac/sac.py#L10)"
      ],
      "metadata": {
        "id": "rj0SrJzkY5xY"
      }
    },
    {
      "cell_type": "code",
      "execution_count": 5,
      "metadata": {
        "id": "7CsaVrbA2uVp"
      },
      "outputs": [],
      "source": [
        "#Create ReplayBuffer Class\n",
        "class ReplayBuffer:\n",
        "    \"\"\"A simple numpy replay buffer.\"\"\"\n",
        "\n",
        "    def __init__(self, obs_dim: int, size: int, batch_size: int = 32):\n",
        "        self.obs_buf = np.zeros([size, obs_dim], dtype=np.float32)\n",
        "        self.next_obs_buf = np.zeros([size, obs_dim], dtype=np.float32)\n",
        "        self.acts_buf = np.zeros([size], dtype=np.float32)\n",
        "        self.rews_buf = np.zeros([size], dtype=np.float32)\n",
        "        self.done_buf = np.zeros(size, dtype=np.float32)\n",
        "        self.max_size, self.batch_size = size, batch_size\n",
        "        self.ptr, self.size, = 0, 0\n",
        "\n",
        "    def store(\n",
        "        self,\n",
        "        obs: np.ndarray,\n",
        "        act: np.ndarray, \n",
        "        rew: float, \n",
        "        next_obs: np.ndarray, \n",
        "        done: bool,\n",
        "    ):\n",
        "        self.obs_buf[self.ptr] = obs\n",
        "        self.next_obs_buf[self.ptr] = next_obs\n",
        "        self.acts_buf[self.ptr] = act\n",
        "        self.rews_buf[self.ptr] = rew\n",
        "        self.done_buf[self.ptr] = done\n",
        "        self.ptr = (self.ptr + 1) % self.max_size\n",
        "        self.size = min(self.size + 1, self.max_size)\n",
        "\n",
        "    def sample_batch(self) -> Dict[str, np.ndarray]:\n",
        "        idxs = np.random.choice(self.size, size=self.batch_size, replace=False)\n",
        "        return dict(obs=self.obs_buf[idxs],\n",
        "                    next_obs=self.next_obs_buf[idxs],\n",
        "                    acts=self.acts_buf[idxs],\n",
        "                    rews=self.rews_buf[idxs],\n",
        "                    done=self.done_buf[idxs])\n",
        "\n",
        "    def __len__(self) -> int:\n",
        "        return self.size"
      ]
    },
    {
      "cell_type": "markdown",
      "source": [
        "## DQN Agent\n",
        "\n",
        "Here is a summary of DQNAgent class.\n",
        "\n",
        "| Method           | Note                                                 |\n",
        "| ---              | ---                                                  |\n",
        "|select_action     | select an action from the input state.               |\n",
        "|step              | take an action and return the response of the env.   |\n",
        "|compute_dqn_loss  | return dqn loss.                                     |\n",
        "|update_model      | update the model by gradient descent.                |\n",
        "|target_hard_update| hard update from the local model to the target model.|\n",
        "|train             | train the agent during num_frames.                   |\n",
        "|test              | test the agent (1 episode).                          |\n",
        "|plot              | plot the training progresses.                        |\n"
      ],
      "metadata": {
        "id": "dx9OyOhCZKL4"
      }
    },
    {
      "cell_type": "code",
      "source": [
        "# Create DQNAgent class \n",
        "class DQNAgent:\n",
        "    \"\"\"DQN Agent interacting with environment.\n",
        "    \n",
        "    Attribute:\n",
        "        env (gym.Env): openAI Gym environment\n",
        "        memory (ReplayBuffer): replay memory to store transitions\n",
        "        batch_size (int): batch size for sampling\n",
        "        epsilon (float): parameter for epsilon greedy policy\n",
        "        epsilon_decay (float): step size to decrease epsilon\n",
        "        max_epsilon (float): max value of epsilon\n",
        "        min_epsilon (float): min value of epsilon\n",
        "        target_update (int): period for target model's hard update\n",
        "        gamma (float): discount factor\n",
        "        dqn (Network): model to train and select actions\n",
        "        dqn_target (Network): target model to update\n",
        "        optimizer (torch.optim): optimizer for training dqn\n",
        "        transition (list): transition information including \n",
        "                           state, action, reward, next_state, done\n",
        "    \"\"\"\n",
        "\n",
        "    def __init__(\n",
        "        self, \n",
        "        env: gym.Env,\n",
        "        num_hidden_nodes:int,\n",
        "        memory_size: int,\n",
        "        batch_size: int,\n",
        "        target_update: int,\n",
        "        epsilon_decay: float,\n",
        "        max_epsilon: float = 1.0,\n",
        "        min_epsilon: float = 0.1,\n",
        "        gamma: float = 0.99,\n",
        "        learning_rate: float=0.001\n",
        "    ):\n",
        "        \"\"\"Initialization.\n",
        "        \n",
        "        Args:\n",
        "            env (gym.Env): openAI Gym environment\n",
        "            memory_size (int): length of memory\n",
        "            batch_size (int): batch size for sampling\n",
        "            target_update (int): period for target model's hard update\n",
        "            epsilon_decay (float): step size to decrease epsilon\n",
        "            lr (float): learning rate\n",
        "            max_epsilon (float): max value of epsilon\n",
        "            min_epsilon (float): min value of epsilon\n",
        "            gamma (float): discount factor\n",
        "        \"\"\"\n",
        "        obs_dim = env.observation_space.shape[0]\n",
        "        action_dim = env.action_space.n\n",
        "        \n",
        "        self.env = env\n",
        "        self.memory = ReplayBuffer(obs_dim, memory_size, batch_size)\n",
        "        self.batch_size = batch_size\n",
        "        self.epsilon = max_epsilon\n",
        "        self.epsilon_decay = epsilon_decay\n",
        "        self.max_epsilon = max_epsilon\n",
        "        self.min_epsilon = min_epsilon\n",
        "        self.target_update = target_update\n",
        "        self.gamma = gamma\n",
        "        \n",
        "        # device: cpu / gpu\n",
        "        self.device = torch.device(\n",
        "            \"cuda\" if torch.cuda.is_available() else \"cpu\"\n",
        "        )\n",
        "        print(self.device)\n",
        "\n",
        "        # networks: dqn, dqn_target\n",
        "        self.dqn = Network(obs_dim, action_dim,num_hidden_nodes).to(self.device)\n",
        "        self.dqn_target = Network(obs_dim, action_dim,num_hidden_nodes).to(self.device)\n",
        "        self.dqn_target.load_state_dict(self.dqn.state_dict())\n",
        "        self.dqn_target.eval()\n",
        "        print('params',self.dqn.parameters())\n",
        "        # optimizer\n",
        "        self.optimizer = optim.Adam(self.dqn.parameters(),lr=learning_rate)\n",
        "\n",
        "        # transition to store in memory\n",
        "        self.transition = list()\n",
        "        \n",
        "        # mode: train / test\n",
        "        self.is_test = False\n",
        "\n",
        "    def select_action(self, state: np.ndarray) -> np.ndarray:\n",
        "        \"\"\"Select an action from the input state.\"\"\"\n",
        "        # epsilon greedy policy\n",
        "        if self.epsilon > np.random.random():\n",
        "            selected_action = self.env.action_space.sample()\n",
        "        else:\n",
        "            selected_action = self.dqn(\n",
        "                torch.FloatTensor(state).to(self.device)\n",
        "            ).argmax()\n",
        "            selected_action = selected_action.detach().cpu().numpy()\n",
        "            \n",
        "        if not self.is_test:\n",
        "            self.transition = [state, selected_action]\n",
        "        \n",
        "        return selected_action\n",
        "\n",
        "    def step(self, action: np.ndarray) -> Tuple[np.ndarray, np.float64, bool]:\n",
        "        \"\"\"Take an action and return the response of the env.\"\"\"\n",
        "        next_state, reward, done, _ = self.env.step(action)\n",
        "\n",
        "        if not self.is_test:\n",
        "            self.transition += [reward, next_state, done]\n",
        "            # print('transiton',self.transition)\n",
        "            self.memory.store(*self.transition)\n",
        "    \n",
        "        return next_state, reward, done\n",
        "\n",
        "    def update_model(self) -> torch.Tensor:\n",
        "        \"\"\"Update the model by gradient descent.\"\"\"\n",
        "        samples = self.memory.sample_batch()\n",
        "\n",
        "        loss = self._compute_dqn_loss(samples)\n",
        "\n",
        "        self.optimizer.zero_grad()\n",
        "        loss.backward()\n",
        "        self.optimizer.step()\n",
        "\n",
        "        return loss.item()\n",
        "        \n",
        "    def train(self, num_frames: int, plotting_interval: int = 200):\n",
        "        \"\"\"Train the agent.\"\"\"\n",
        "        self.is_test = False\n",
        "        \n",
        "        state = self.env.reset()\n",
        "        update_cnt = 0\n",
        "        epsilons = []\n",
        "        predictions = []\n",
        "        # precitionsLeft = []\n",
        "        targets=[]\n",
        "        losses = []\n",
        "        scores = []\n",
        "        score = 0\n",
        "\n",
        "        for frame_idx in range(1, num_frames + 1):\n",
        "            action = self.select_action(state)\n",
        "            next_state, reward, done = self.step(action)\n",
        "\n",
        "            state = next_state\n",
        "            score += reward\n",
        "\n",
        "            # if episode ends\n",
        "            if done:\n",
        "                state = self.env.reset()\n",
        "                scores.append(score)\n",
        "                score = 0\n",
        "\n",
        "            # if training is ready\n",
        "            if len(self.memory) >= self.batch_size:\n",
        "                loss = self.update_model()\n",
        "                losses.append(loss)\n",
        "                # targets.append(target)\n",
        "                update_cnt += 1\n",
        "                \n",
        "                predict = self.dqn(\n",
        "                torch.FloatTensor(state).to(self.device)\n",
        "                ).detach().tolist()\n",
        "                predictions.append(predict)\n",
        "                \n",
        "                self.epsilon = max(\n",
        "                    self.min_epsilon, self.epsilon - (\n",
        "                        self.max_epsilon - self.min_epsilon\n",
        "                    ) * self.epsilon_decay\n",
        "                )\n",
        "              \n",
        "                epsilons.append(self.epsilon)\n",
        "                \n",
        "                # if hard update is needed\n",
        "                if update_cnt % self.target_update == 0:\n",
        "                    self._target_hard_update()\n",
        "\n",
        "            # plotting\n",
        "            if frame_idx % plotting_interval == 0:\n",
        "                self._plot(frame_idx, scores, losses, epsilons,predictions)\n",
        "                \n",
        "        self.env.close()\n",
        "                \n",
        "    def test(self, video_folder: str) -> None:\n",
        "        \"\"\"Test the agent.\"\"\"\n",
        "        self.is_test = True\n",
        "        \n",
        "        # for recording a video\n",
        "        naive_env = self.env\n",
        "        self.env = gym.wrappers.RecordVideo(self.env, video_folder=video_folder)\n",
        "        \n",
        "        state = self.env.reset()\n",
        "        done = False\n",
        "        score = 0\n",
        "        \n",
        "        while not done:\n",
        "            action = self.select_action(state)\n",
        "            next_state, reward, done = self.step(action)\n",
        "\n",
        "            state = next_state\n",
        "            score += reward\n",
        "        print(\"score: \", score)\n",
        "        self.env.close()\n",
        "        \n",
        "        # reset\n",
        "        self.env = naive_env\n",
        "\n",
        "    def _compute_dqn_loss(self, samples: Dict[str, np.ndarray]) -> torch.Tensor:\n",
        "        \"\"\"Return dqn loss.\"\"\"\n",
        "        device = self.device  # for shortening the following lines\n",
        "        state = torch.FloatTensor(samples[\"obs\"]).to(device)\n",
        "        next_state = torch.FloatTensor(samples[\"next_obs\"]).to(device)\n",
        "        action = torch.LongTensor(samples[\"acts\"].reshape(-1, 1)).to(device)\n",
        "        reward = torch.FloatTensor(samples[\"rews\"].reshape(-1, 1)).to(device)\n",
        "        done = torch.FloatTensor(samples[\"done\"].reshape(-1, 1)).to(device)\n",
        "\n",
        "        # G_t   = r + gamma * v(s_{t+1})  if state != Terminal\n",
        "        #       = r                       otherwise\n",
        "        curr_q_value = self.dqn(state).gather(1, action)\n",
        "        next_q_value = self.dqn_target(\n",
        "            next_state\n",
        "        ).max(dim=1, keepdim=True)[0].detach()\n",
        "        mask = 1 - done\n",
        "        # mask=1\n",
        "        target = (reward + self.gamma * next_q_value * mask).to(self.device)\n",
        "        # targetForPlot = (reward + self.gamma * next_q_value * mask)\n",
        "        \n",
        "        # calculate dqn loss\n",
        "        loss = F.smooth_l1_loss(curr_q_value, target)\n",
        "        return loss\n",
        "\n",
        "    def _target_hard_update(self):\n",
        "        \"\"\"Hard update: target <- local.\"\"\"\n",
        "        self.dqn_target.load_state_dict(self.dqn.state_dict())\n",
        "                \n",
        "    def _plot(\n",
        "        self, \n",
        "        frame_idx: int, \n",
        "        scores: List[float], \n",
        "        losses: List[float], \n",
        "        epsilons: List[float],\n",
        "        predictions: List[float],\n",
        "    ):\n",
        "          \n",
        "        \"\"\"Plot the training progresses.\"\"\"\n",
        "        clear_output(True)\n",
        "        # print(targets)\n",
        "        plt.figure(figsize=(20, 5))\n",
        "        plt.subplot(141)\n",
        "        plt.title('frame %s. score: %s' % (frame_idx, np.mean(scores[-10:])))\n",
        "        plt.plot(scores)\n",
        "        plt.subplot(142)\n",
        "        plt.title('loss')\n",
        "        plt.plot(losses)\n",
        "        plt.subplot(143)\n",
        "        plt.title('epsilons')\n",
        "        plt.plot(epsilons)\n",
        "        plt.subplot(144)\n",
        "        plt.title('predictions')\n",
        "        plt.plot(predictions)\n",
        "        plt.show()"
      ],
      "metadata": {
        "id": "YVbtpCYqZGv7"
      },
      "execution_count": 34,
      "outputs": []
    },
    {
      "cell_type": "markdown",
      "source": [
        "#Create the environment"
      ],
      "metadata": {
        "id": "if11YIXAf_dG"
      }
    },
    {
      "cell_type": "code",
      "execution_count": 35,
      "metadata": {
        "id": "uFZuVbZz2uVq"
      },
      "outputs": [],
      "source": [
        "# set the environment\n",
        "env_id = \"CartPole-v0\"\n",
        "env = gym.make(env_id)"
      ]
    },
    {
      "cell_type": "markdown",
      "source": [
        "#Set parameters for experiment"
      ],
      "metadata": {
        "id": "8yoJpvcXgCEL"
      }
    },
    {
      "cell_type": "code",
      "execution_count": 44,
      "metadata": {
        "id": "yianM-dx2uVn"
      },
      "outputs": [],
      "source": [
        "\n",
        "# create params\n",
        "num_frames = 10000\n",
        "memory_size = 1000\n",
        "gamma=0.99\n",
        "batch_size = 32\n",
        "target_update = 100\n",
        "epsilon_decay = 1 / 2000\n",
        "num_hidden_nodes=128\n",
        "video_folder=\"videos\"\n",
        "learning_rate=0.001\n"
      ]
    },
    {
      "cell_type": "code",
      "source": [
        "#Initialize the agent using the DQN class\n",
        "agent = DQNAgent(env,num_hidden_nodes, memory_size, batch_size, target_update, epsilon_decay, gamma = gamma)"
      ],
      "metadata": {
        "id": "VUt0odA2kuSl",
        "outputId": "ac5c669a-1d76-4ffc-a663-9988a5be0335",
        "colab": {
          "base_uri": "https://localhost:8080/"
        }
      },
      "execution_count": 45,
      "outputs": [
        {
          "output_type": "stream",
          "name": "stdout",
          "text": [
            "cpu\n",
            "params <generator object Module.parameters at 0x7ffa4693ea50>\n"
          ]
        }
      ]
    },
    {
      "cell_type": "markdown",
      "source": [
        "#Train"
      ],
      "metadata": {
        "id": "BPu85nk2ZfJa"
      }
    },
    {
      "cell_type": "code",
      "execution_count": 47,
      "metadata": {
        "id": "azVNSMYa2uVq",
        "outputId": "356b3fee-7697-459e-c78e-f8b5de340dfd",
        "colab": {
          "base_uri": "https://localhost:8080/",
          "height": 239
        }
      },
      "outputs": [
        {
          "output_type": "display_data",
          "data": {
            "text/plain": [
              "<Figure size 1440x360 with 4 Axes>"
            ],
            "image/png": "[encoded data removed]"
          },
          "metadata": {
            "needs_background": "light"
          }
        }
      ],
      "source": [
        "# train the agent\n",
        "agent.train(num_frames)"
      ]
    },
    {
      "cell_type": "markdown",
      "source": [
        "#Test the network and export video of agent's actions"
      ],
      "metadata": {
        "id": "oUsgqvzyZh8q"
      }
    },
    {
      "cell_type": "code",
      "execution_count": null,
      "metadata": {
        "id": "EomjmDOb2uVn",
        "outputId": "8c420323-b0ed-47b5-ff0c-3c56d8927be2",
        "colab": {
          "base_uri": "https://localhost:8080/"
        }
      },
      "outputs": [
        {
          "output_type": "stream",
          "name": "stderr",
          "text": [
            "/usr/local/lib/python3.7/dist-packages/gym/wrappers/record_video.py:42: UserWarning: \u001b[33mWARN: Overwriting existing videos at /content/videos folder (try specifying a different `video_folder` for the `RecordVideo` wrapper if this is not desired)\u001b[0m\n",
            "  f\"Overwriting existing videos at {self.video_folder} folder (try specifying a different `video_folder` for the `RecordVideo` wrapper if this is not desired)\"\n"
          ]
        }
      ],
      "source": [
        "# create the video_folder var\n",
        "agent.test(video_folder=video_folder)"
      ]
    },
    {
      "cell_type": "code",
      "source": [
        "## create the functions to display the test video in colab\n",
        "\n",
        "\n",
        "def ipython_show_video(path: str) -> None:\n",
        "    \"\"\"Show a video at `path` within IPython Notebook.\"\"\"\n",
        "    if not os.path.isfile(path):\n",
        "        raise NameError(\"Cannot access: {}\".format(path))\n",
        "\n",
        "    video = io.open(path, \"r+b\").read()\n",
        "    encoded = base64.b64encode(video)\n",
        "\n",
        "    display(HTML(\n",
        "        data=\"\"\"\n",
        "        <video width=\"320\" height=\"240\" alt=\"test\" controls>\n",
        "        <source src=\"data:video/mp4;base64,{0}\" type=\"video/mp4\"/>\n",
        "        </video>\n",
        "        \"\"\".format(encoded.decode(\"ascii\"))\n",
        "    ))\n",
        "\n",
        "\n",
        "def show_latest_video(video_folder: str) -> str:\n",
        "    \"\"\"Show the most recently recorded video from video folder.\"\"\"\n",
        "    list_of_files = glob.glob(os.path.join(video_folder, \"*.mp4\"))\n",
        "    latest_file = max(list_of_files, key=os.path.getctime)\n",
        "    ipython_show_video(latest_file)\n",
        "    return latest_file\n",
        "\n",
        "\n",
        "latest_file = show_latest_video(video_folder=video_folder)\n",
        "print(\"Played:\", latest_file)"
      ],
      "metadata": {
        "id": "sTQ7xo9DZUKb",
        "outputId": "c6d19500-7f93-44c4-91a6-4c2a8aea1ace",
        "colab": {
          "base_uri": "https://localhost:8080/",
          "height": 278
        }
      },
      "execution_count": 41,
      "outputs": [
        {
          "output_type": "display_data",
          "data": {
            "text/plain": [
              "<IPython.core.display.HTML object>"
            ],
            "text/html": [
              "\n",
              "        <video width=\"320\" height=\"240\" alt=\"test\" controls>\n",
              "        <source src=\"data:video/mp4;base64,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\" type=\"video/mp4\"/>\n",
              "        </video>\n",
              "        "
            ]
          },
          "metadata": {}
        },
        {
          "output_type": "stream",
          "name": "stdout",
          "text": [
            "Played: videos/rl-video-episode-0.mp4\n"
          ]
        }
      ]
    },
    {
      "cell_type": "code",
      "source": [
        "state = [0,0,0,0]\n",
        "predictions=agent.dqn(\n",
        "                torch.FloatTensor(state).to(agent.device)\n",
        "            ).detach().tolist()\n",
        "\n",
        "print(predictions)"
      ],
      "metadata": {
        "id": "zJM-hU0bjg3Z",
        "outputId": "e355317c-d993-439e-a268-0390ae334306",
        "colab": {
          "base_uri": "https://localhost:8080/"
        }
      },
      "execution_count": 42,
      "outputs": [
        {
          "output_type": "stream",
          "name": "stdout",
          "text": [
            "[101.94242095947266, 102.14706420898438]\n"
          ]
        }
      ]
    },
    {
      "cell_type": "code",
      "source": [
        "x = np.linspace(0, 200, 201)\n",
        "y = 0\n",
        "gamma = 0.9\n",
        "ys = []\n",
        "for currX in x:\n",
        "  y+=gamma ** currX\n",
        "  ys.append(y)\n",
        "\n",
        "plt.plot(x, ys)\n",
        "plt.show"
      ],
      "metadata": {
        "id": "kk3eQNDV05jr",
        "outputId": "d03630dd-ffdb-43a2-ccc3-e792b269f09f",
        "colab": {
          "base_uri": "https://localhost:8080/",
          "height": 282
        }
      },
      "execution_count": 43,
      "outputs": [
        {
          "output_type": "execute_result",
          "data": {
            "text/plain": [
              "<function matplotlib.pyplot.show>"
            ]
          },
          "metadata": {},
          "execution_count": 43
        },
        {
          "output_type": "display_data",
          "data": {
            "text/plain": [
              "<Figure size 432x288 with 1 Axes>"
            ],
            "image/png": "[encoded data removed]"
          },
          "metadata": {
            "needs_background": "light"
          }
        }
      ]
    }
  ],
  "metadata": {
    "kernelspec": {
      "display_name": "Python 3",
      "name": "python3"
    },
    "language_info": {
      "name": "python"
    },
    "colab": {
      "name": "lesson-04.ipynb",
      "provenance": [],
      "collapsed_sections": []
    },
    "gpuClass": "standard"
  },
  "nbformat": 4,
  "nbformat_minor": 0
}