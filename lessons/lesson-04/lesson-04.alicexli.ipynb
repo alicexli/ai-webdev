{
  "cells": [
    {
      "cell_type": "markdown",
      "source": [
        "<center><h1>AI in Web Development</h1></center>\n",
        "\n",
        "---\n",
        "\n",
        "<center><h2>Lesson 04</h2></center>\n",
        "\n",
        "\n",
        "[![Open In Colab](https://colab.research.google.com/assets/colab-badge.svg)](https://colab.research.google.com/github/alicexli/ai-webdev/blob/main/lessons/lesson-04/lesson-04.alicexli.ipynb)"
      ],
      "metadata": {
        "id": "IPgoWtoIJQOi"
      }
    },
    {
      "cell_type": "markdown",
      "source": [
        "This notebook is based on [this example](https://colab.research.google.com/github/Curt-Park/rainbow-is-all-you-need/blob/master/01.dqn.ipynb)\n",
        "and [this example](https://colab.research.google.com/github/ehennis/ReinforcementLearning/blob/master/05-DQN.ipynb#scrollTo=DPWjJiOZ2uVd)  \n"
      ],
      "metadata": {
        "id": "KPb9IjzQmKOU"
      }
    },
    {
      "cell_type": "markdown",
      "metadata": {
        "id": "Pf4_QpE72uVZ"
      },
      "source": [
        "<h1 align=\"center\">Reinforcement Learning (RL)</h1>"
      ]
    },
    {
      "cell_type": "markdown",
      "source": [
        "<center><img src=\"https://github.com/snsie/ai-webdev/blob/main/images/what-is-reinforcement-learning.png?raw=true\" width='320px'/></center>\n"
      ],
      "metadata": {
        "id": "VqGHxllEo3h7"
      }
    },
    {
      "cell_type": "markdown",
      "source": [
        "###Environment\n",
        "  * The stage that contains the simulation\n",
        "\n",
        "<br/>\n",
        "\n",
        "###Agent\n",
        "  * The entity making decisions\n",
        "  * Can be represented as a neural network\n",
        "\n",
        "<br/>\n",
        "\n",
        "###States\n",
        "* Set of observations that agents that can be performed by the agent\n",
        "* example: agent's position\n",
        "\n",
        "<br/>\n",
        "\n",
        "###Actions\n",
        "* Set of activities that can be performed by the agent\n",
        "* example: move right, move left\n",
        "\n",
        "<br/>\n",
        "\n",
        "###Rewards\n",
        "* Provides agents feedback about their performance\n"
      ],
      "metadata": {
        "id": "sdedL4816Qp5"
      }
    },
    {
      "cell_type": "markdown",
      "source": [
        "<center><h1>Cart Pole Example</h1></center>\n",
        "\n",
        "---\n",
        "\n",
        "<center><h4>the cart's goal: balance the pole</h4></center>\n",
        "\n",
        "\n",
        "[Gym Docs](https://www.gymlibrary.ml/environments/classic_control/cart_pole/)"
      ],
      "metadata": {
        "id": "P12W_YPa09UE"
      }
    },
    {
      "cell_type": "markdown",
      "source": [
        "|Bad Cart          |  Good Cart  |\n",
        "|:-------------------------:|:-------------------------:|\n",
        "| <img src='https://github.com/snsie/ai-webdev/blob/main/images/cartpole-initial.gif?raw=true' width=\"300\"/>  | <img src='https://github.com/snsie/ai-webdev/blob/main/images/cartpole-trained.gif?raw=true' width=\"300\"/> |"
      ],
      "metadata": {
        "id": "A-YYa0w41cqt"
      }
    },
    {
      "cell_type": "markdown",
      "metadata": {
        "id": "Z2Fqe9TO2uVd"
      },
      "source": [
        "<center><h3><u>Actions</u></h3></center>\n",
        "\n",
        "| Num | Action                 |\n",
        "|-----|------------------------|\n",
        "| 0   | Push cart to the left  |\n",
        "| 1   | Push cart to the right |\n",
        "\n",
        "<br/>\n",
        "<br/>\n",
        "\n",
        "<center><h3><u>States</u></h3></center>\n",
        "\n",
        "| Num | Observation           | Min                 | Max               |\n",
        "|-----|-----------------------|:-------------------|:-----------------|\n",
        "| 0   | Cart Position         | -4.8                | 4.8               |\n",
        "| 1   | Cart Velocity         | -Inf                | Inf               |\n",
        "| 2   | Pole Angle            | ~ -0.418 rad (-24°) | ~ 0.418 rad (24°) |\n",
        "| 3   | Pole Angular Velocity | -Inf                | Inf               |\n",
        "\n",
        "<br/>\n",
        "\n",
        "[Cart Pole Python File](https://github.com/openai/gym/blob/master/gym/envs/classic_control/cartpole.py)"
      ]
    },
    {
      "cell_type": "markdown",
      "source": [
        "RL Algorithm to be used in this example:\n",
        "\n",
        "<center><h1>Q-learning</h1></center>\n",
        "\n",
        "<br/>\n",
        "\n",
        "<h4>\n",
        "\\begin{align}\n",
        "Q(s,a) = r(s,a) + \\gamma \\cdot \\max_{a} Q(s',a')\n",
        "\\end{align}\n",
        "</h4>\n",
        "\n",
        "<br/>\n",
        "\n",
        "###$Q(s,a)$ = Q-value\n",
        "\n",
        "###$r(s,a)$ = reward for current action\n",
        "\n",
        "###$\\gamma$ = parameter that scales: $\\max_{a}Q(s',a')$\n",
        "\n",
        "###$\\max_{a}Q(s',a')$ = Maximum Q-value predicted in the next state \n",
        "\n",
        "<br/>\n",
        "\n",
        "---"
      ],
      "metadata": {
        "id": "u1IqACZf-7yG"
      }
    },
    {
      "cell_type": "markdown",
      "source": [
        "<h3>Long term interpretation of Q:</h3>\n",
        "<h3>\n",
        "$$\n",
        "Q(s_t,a_t) = r(t) + \\gamma \\cdot r(t+1) + \\gamma^2 \\cdot r(t+2) +  \\gamma^3 \\cdot r(t+3) \\ ...\n",
        "$$\n",
        "</h3>"
      ],
      "metadata": {
        "id": "EtMh6rUaKpep"
      }
    },
    {
      "cell_type": "markdown",
      "source": [
        "**Reference**  \n",
        "Mnih, V., Kavukcuoglu, K., Silver, D., Rusu, A. A., Veness, J., Bellemare, M. G., ... & Petersen, S. (2015). *Human-level control through deep reinforcement learning*. Nature, 518(7540), 529"
      ],
      "metadata": {
        "id": "vJM_vfH8gSf9"
      }
    },
    {
      "cell_type": "code",
      "source": [
        "import sys\n",
        "IN_COLAB = \"google.colab\" in sys.modules\n",
        "\n",
        "if IN_COLAB:\n",
        "    !apt install python-opengl\n",
        "    !apt install ffmpeg\n",
        "    !apt install xvfb\n",
        "    !pip install PyVirtualDisplay==3.0\n",
        "    !pip install gym==0.21.0\n",
        "    from pyvirtualdisplay import Display\n",
        "    \n",
        "    # Start virtual display\n",
        "    dis = Display(visible=0, size=(400, 400))\n",
        "    dis.start()"
      ],
      "metadata": {
        "id": "KtRw868MHSEj",
        "outputId": "dd1cdb5a-caa3-43b8-f972-a84025132ff8",
        "colab": {
          "base_uri": "https://localhost:8080/"
        }
      },
      "execution_count": 4,
      "outputs": [
        {
          "output_type": "stream",
          "name": "stdout",
          "text": [
            "Reading package lists... Done\n",
            "Building dependency tree       \n",
            "Reading state information... Done\n",
            "python-opengl is already the newest version (3.1.0+dfsg-1).\n",
            "The following package was automatically installed and is no longer required:\n",
            "  libnvidia-common-460\n",
            "Use 'apt autoremove' to remove it.\n",
            "0 upgraded, 0 newly installed, 0 to remove and 49 not upgraded.\n",
            "Reading package lists... Done\n",
            "Building dependency tree       \n",
            "Reading state information... Done\n",
            "ffmpeg is already the newest version (7:3.4.11-0ubuntu0.1).\n",
            "The following package was automatically installed and is no longer required:\n",
            "  libnvidia-common-460\n",
            "Use 'apt autoremove' to remove it.\n",
            "0 upgraded, 0 newly installed, 0 to remove and 49 not upgraded.\n",
            "Reading package lists... Done\n",
            "Building dependency tree       \n",
            "Reading state information... Done\n",
            "xvfb is already the newest version (2:1.19.6-1ubuntu4.11).\n",
            "The following package was automatically installed and is no longer required:\n",
            "  libnvidia-common-460\n",
            "Use 'apt autoremove' to remove it.\n",
            "0 upgraded, 0 newly installed, 0 to remove and 49 not upgraded.\n",
            "Looking in indexes: https://pypi.org/simple, https://us-python.pkg.dev/colab-wheels/public/simple/\n",
            "Requirement already satisfied: PyVirtualDisplay==3.0 in /usr/local/lib/python3.7/dist-packages (3.0)\n",
            "Looking in indexes: https://pypi.org/simple, https://us-python.pkg.dev/colab-wheels/public/simple/\n",
            "Requirement already satisfied: gym==0.21.0 in /usr/local/lib/python3.7/dist-packages (0.21.0)\n",
            "Requirement already satisfied: importlib-metadata>=4.8.1 in /usr/local/lib/python3.7/dist-packages (from gym==0.21.0) (4.12.0)\n",
            "Requirement already satisfied: cloudpickle>=1.2.0 in /usr/local/lib/python3.7/dist-packages (from gym==0.21.0) (1.3.0)\n",
            "Requirement already satisfied: numpy>=1.18.0 in /usr/local/lib/python3.7/dist-packages (from gym==0.21.0) (1.21.6)\n",
            "Requirement already satisfied: zipp>=0.5 in /usr/local/lib/python3.7/dist-packages (from importlib-metadata>=4.8.1->gym==0.21.0) (3.8.1)\n",
            "Requirement already satisfied: typing-extensions>=3.6.4 in /usr/local/lib/python3.7/dist-packages (from importlib-metadata>=4.8.1->gym==0.21.0) (4.1.1)\n"
          ]
        }
      ]
    },
    {
      "cell_type": "code",
      "execution_count": 5,
      "metadata": {
        "id": "DPWjJiOZ2uVd"
      },
      "outputs": [],
      "source": [
        "import os\n",
        "from typing import Dict, List, Tuple\n",
        "\n",
        "import gym\n",
        "import matplotlib.pyplot as plt\n",
        "import numpy as np\n",
        "import torch\n",
        "import torch.nn as nn\n",
        "import torch.nn.functional as F\n",
        "import torch.optim as optim\n",
        "from IPython.display import clear_output,HTML, display\n",
        "import base64\n",
        "import glob\n",
        "import io"
      ]
    },
    {
      "cell_type": "markdown",
      "source": [
        "## Network\n",
        "\n",
        "We are going to use a simple network architecture with three fully connected layers and two non-linearity functions (ReLU)."
      ],
      "metadata": {
        "id": "hyKWUadCZASY"
      }
    },
    {
      "cell_type": "code",
      "source": [
        "### Create a neural network class \n",
        "class Network(nn.Module):\n",
        "  def __init__(self, in_dim:int, out_dim:int, num_hn:int):\n",
        "    super(Network, self).__init__()\n",
        "\n",
        "    self.layers = nn.Sequential(\n",
        "        nn.Linear(in_dim,num_hn),\n",
        "        nn.ReLU(),\n",
        "        nn.Linear(num_hn, num_hn),\n",
        "        nn.ReLU(),\n",
        "        nn.Linear(num_hn, out_dim)\n",
        "    )\n",
        "  def forward(self,x:torch.Tensor):\n",
        "    return self.layers(x)\n",
        "\n",
        "# cat = Network(2)\n",
        "# cat.printNumCats()"
      ],
      "metadata": {
        "id": "KVleneWxZqGq"
      },
      "execution_count": 6,
      "outputs": []
    },
    {
      "cell_type": "markdown",
      "source": [
        "## Replay buffer\n",
        "\n",
        "Typically, people implement replay buffers with one of the following three data structures:\n",
        "\n",
        "  - collections.deque\n",
        "  - list\n",
        "  - numpy.ndarray\n",
        "  \n",
        "**deque** is very easy to handle once you initialize its maximum length (e.g. deque(maxlen=buffer_size)). However, the indexing operation of deque gets terribly slow as it grows up because it is [internally doubly linked list](https://wiki.python.org/moin/TimeComplexity#collections.deque). On the other hands, **list** is an array, so it is relatively faster than deque when you sample batches at every step. Its amortized cost of  *Get item* is [O(1)](https://wiki.python.org/moin/TimeComplexity#list).\n",
        "\n",
        "Last but not least, let's see **numpy.ndarray**. numpy.ndarray is even faster than list due to the fact that it is [a homogeneous array of fixed-size items](https://docs.scipy.org/doc/numpy/reference/generated/numpy.ndarray.html#numpy.ndarray), so you can get the benefits of [locality of reference](https://en.wikipedia.org/wiki/Locality_of_reference). Whereas list is an array of pointers to objects, even when all of them are of the same type.\n",
        "\n",
        "Here, we are going to implement a replay buffer using numpy.ndarray.\n",
        "\n",
        "\n",
        "Reference: [OpenAI spinning-up](https://github.com/openai/spinningup/blob/master/spinup/algos/sac/sac.py#L10)"
      ],
      "metadata": {
        "id": "rj0SrJzkY5xY"
      }
    },
    {
      "cell_type": "code",
      "execution_count": 7,
      "metadata": {
        "id": "7CsaVrbA2uVp"
      },
      "outputs": [],
      "source": [
        "#Create ReplayBuffer Class\n",
        "class ReplayBuffer:\n",
        "    \"\"\"A simple numpy replay buffer.\"\"\"\n",
        "\n",
        "    def __init__(self, obs_dim: int, size: int, batch_size: int = 32):\n",
        "        self.obs_buf = np.zeros([size, obs_dim], dtype=np.float32)\n",
        "        self.next_obs_buf = np.zeros([size, obs_dim], dtype=np.float32)\n",
        "        self.acts_buf = np.zeros([size], dtype=np.float32)\n",
        "        self.rews_buf = np.zeros([size], dtype=np.float32)\n",
        "        self.done_buf = np.zeros(size, dtype=np.float32)\n",
        "        self.max_size, self.batch_size = size, batch_size\n",
        "        self.ptr, self.size, = 0, 0\n",
        "\n",
        "    def store(\n",
        "        self,\n",
        "        obs: np.ndarray,\n",
        "        act: np.ndarray, \n",
        "        rew: float, \n",
        "        next_obs: np.ndarray, \n",
        "        done: bool,\n",
        "    ):\n",
        "        self.obs_buf[self.ptr] = obs\n",
        "        self.next_obs_buf[self.ptr] = next_obs\n",
        "        self.acts_buf[self.ptr] = act\n",
        "        self.rews_buf[self.ptr] = rew\n",
        "        self.done_buf[self.ptr] = done\n",
        "        self.ptr = (self.ptr + 1) % self.max_size\n",
        "        self.size = min(self.size + 1, self.max_size)\n",
        "\n",
        "    def sample_batch(self) -> Dict[str, np.ndarray]:\n",
        "        idxs = np.random.choice(self.size, size=self.batch_size, replace=False)\n",
        "        return dict(obs=self.obs_buf[idxs],\n",
        "                    next_obs=self.next_obs_buf[idxs],\n",
        "                    acts=self.acts_buf[idxs],\n",
        "                    rews=self.rews_buf[idxs],\n",
        "                    done=self.done_buf[idxs])\n",
        "\n",
        "    def __len__(self) -> int:\n",
        "        return self.size"
      ]
    },
    {
      "cell_type": "markdown",
      "source": [
        "## DQN Agent\n",
        "\n",
        "Here is a summary of DQNAgent class.\n",
        "\n",
        "| Method           | Note                                                 |\n",
        "| ---              | ---                                                  |\n",
        "|select_action     | select an action from the input state.               |\n",
        "|step              | take an action and return the response of the env.   |\n",
        "|compute_dqn_loss  | return dqn loss.                                     |\n",
        "|update_model      | update the model by gradient descent.                |\n",
        "|target_hard_update| hard update from the local model to the target model.|\n",
        "|train             | train the agent during num_frames.                   |\n",
        "|test              | test the agent (1 episode).                          |\n",
        "|plot              | plot the training progresses.                        |\n"
      ],
      "metadata": {
        "id": "dx9OyOhCZKL4"
      }
    },
    {
      "cell_type": "code",
      "source": [
        "# Create DQNAgent class \n",
        "class DQNAgent:\n",
        "    \"\"\"DQN Agent interacting with environment.\n",
        "    \n",
        "    Attribute:\n",
        "        env (gym.Env): openAI Gym environment\n",
        "        memory (ReplayBuffer): replay memory to store transitions\n",
        "        batch_size (int): batch size for sampling\n",
        "        epsilon (float): parameter for epsilon greedy policy\n",
        "        epsilon_decay (float): step size to decrease epsilon\n",
        "        max_epsilon (float): max value of epsilon\n",
        "        min_epsilon (float): min value of epsilon\n",
        "        target_update (int): period for target model's hard update\n",
        "        gamma (float): discount factor\n",
        "        dqn (Network): model to train and select actions\n",
        "        dqn_target (Network): target model to update\n",
        "        optimizer (torch.optim): optimizer for training dqn\n",
        "        transition (list): transition information including \n",
        "                           state, action, reward, next_state, done\n",
        "    \"\"\"\n",
        "\n",
        "    def __init__(\n",
        "        self, \n",
        "        env: gym.Env,\n",
        "        num_hidden_nodes:int,\n",
        "        memory_size: int,\n",
        "        batch_size: int,\n",
        "        target_update: int,\n",
        "        epsilon_decay: float,\n",
        "        max_epsilon: float = 1.0,\n",
        "        min_epsilon: float = 0.1,\n",
        "        gamma: float = 0.99,\n",
        "        learning_rate: float=0.001\n",
        "    ):\n",
        "        \"\"\"Initialization.\n",
        "        \n",
        "        Args:\n",
        "            env (gym.Env): openAI Gym environment\n",
        "            memory_size (int): length of memory\n",
        "            batch_size (int): batch size for sampling\n",
        "            target_update (int): period for target model's hard update\n",
        "            epsilon_decay (float): step size to decrease epsilon\n",
        "            lr (float): learning rate\n",
        "            max_epsilon (float): max value of epsilon\n",
        "            min_epsilon (float): min value of epsilon\n",
        "            gamma (float): discount factor\n",
        "        \"\"\"\n",
        "        obs_dim = env.observation_space.shape[0]\n",
        "        action_dim = env.action_space.n\n",
        "        \n",
        "        self.env = env\n",
        "        self.memory = ReplayBuffer(obs_dim, memory_size, batch_size)\n",
        "        self.batch_size = batch_size\n",
        "        self.epsilon = max_epsilon\n",
        "        self.epsilon_decay = epsilon_decay\n",
        "        self.max_epsilon = max_epsilon\n",
        "        self.min_epsilon = min_epsilon\n",
        "        self.target_update = target_update\n",
        "        self.gamma = gamma\n",
        "        \n",
        "        # device: cpu / gpu\n",
        "        self.device = torch.device(\n",
        "            \"cuda\" if torch.cuda.is_available() else \"cpu\"\n",
        "        )\n",
        "        print(self.device)\n",
        "\n",
        "        # networks: dqn, dqn_target\n",
        "        self.dqn = Network(obs_dim, action_dim,num_hidden_nodes).to(self.device)\n",
        "        self.dqn_target = Network(obs_dim, action_dim,num_hidden_nodes).to(self.device)\n",
        "        self.dqn_target.load_state_dict(self.dqn.state_dict())\n",
        "        self.dqn_target.eval()\n",
        "        print('params',self.dqn.parameters())\n",
        "        # optimizer\n",
        "        self.optimizer = optim.Adam(self.dqn.parameters(),lr=learning_rate)\n",
        "\n",
        "        # transition to store in memory\n",
        "        self.transition = list()\n",
        "        \n",
        "        # mode: train / test\n",
        "        self.is_test = False\n",
        "\n",
        "    def select_action(self, state: np.ndarray) -> np.ndarray:\n",
        "        \"\"\"Select an action from the input state.\"\"\"\n",
        "        # epsilon greedy policy\n",
        "        if self.epsilon > np.random.random():\n",
        "            selected_action = self.env.action_space.sample()\n",
        "        else:\n",
        "            selected_action = self.dqn(\n",
        "                torch.FloatTensor(state).to(self.device)\n",
        "            ).argmax()\n",
        "            selected_action = selected_action.detach().cpu().numpy()\n",
        "            \n",
        "        if not self.is_test:\n",
        "            self.transition = [state, selected_action]\n",
        "        \n",
        "        return selected_action\n",
        "\n",
        "    def step(self, action: np.ndarray) -> Tuple[np.ndarray, np.float64, bool]:\n",
        "        \"\"\"Take an action and return the response of the env.\"\"\"\n",
        "        next_state, reward, done, _ = self.env.step(action)\n",
        "\n",
        "        if not self.is_test:\n",
        "            self.transition += [reward, next_state, done]\n",
        "            # print('transiton',self.transition)\n",
        "            self.memory.store(*self.transition)\n",
        "    \n",
        "        return next_state, reward, done\n",
        "\n",
        "    def update_model(self) -> torch.Tensor:\n",
        "        \"\"\"Update the model by gradient descent.\"\"\"\n",
        "        samples = self.memory.sample_batch()\n",
        "\n",
        "        loss = self._compute_dqn_loss(samples)\n",
        "\n",
        "        self.optimizer.zero_grad()\n",
        "        loss.backward()\n",
        "        self.optimizer.step()\n",
        "\n",
        "        return loss.item()\n",
        "        \n",
        "    def train(self, num_frames: int, plotting_interval: int = 200):\n",
        "        \"\"\"Train the agent.\"\"\"\n",
        "        self.is_test = False\n",
        "        \n",
        "        state = self.env.reset()\n",
        "        update_cnt = 0\n",
        "        epsilons = []\n",
        "        predictions = []\n",
        "        # precitionsLeft = []\n",
        "        targets=[]\n",
        "        losses = []\n",
        "        scores = []\n",
        "        score = 0\n",
        "\n",
        "        for frame_idx in range(1, num_frames + 1):\n",
        "            action = self.select_action(state)\n",
        "            next_state, reward, done = self.step(action)\n",
        "\n",
        "            state = next_state\n",
        "            score += reward\n",
        "\n",
        "            # if episode ends\n",
        "            if done:\n",
        "                state = self.env.reset()\n",
        "                scores.append(score)\n",
        "                score = 0\n",
        "\n",
        "            # if training is ready\n",
        "            if len(self.memory) >= self.batch_size:\n",
        "                loss = self.update_model()\n",
        "                losses.append(loss)\n",
        "                # targets.append(target)\n",
        "                update_cnt += 1\n",
        "                \n",
        "                predict = self.dqn(\n",
        "                torch.FloatTensor(state).to(self.device)\n",
        "                ).detach().tolist()\n",
        "                predictions.append(predict)\n",
        "                \n",
        "                self.epsilon = max(\n",
        "                    self.min_epsilon, self.epsilon - (\n",
        "                        self.max_epsilon - self.min_epsilon\n",
        "                    ) * self.epsilon_decay\n",
        "                )\n",
        "              \n",
        "                epsilons.append(self.epsilon)\n",
        "                \n",
        "                # if hard update is needed\n",
        "                if update_cnt % self.target_update == 0:\n",
        "                    self._target_hard_update()\n",
        "\n",
        "            # plotting\n",
        "            if frame_idx % plotting_interval == 0:\n",
        "                self._plot(frame_idx, scores, losses, epsilons,predictions)\n",
        "                \n",
        "        self.env.close()\n",
        "                \n",
        "    def test(self, video_folder: str) -> None:\n",
        "        \"\"\"Test the agent.\"\"\"\n",
        "        self.is_test = True\n",
        "        \n",
        "        # for recording a video\n",
        "        naive_env = self.env\n",
        "        self.env = gym.wrappers.RecordVideo(self.env, video_folder=video_folder)\n",
        "        \n",
        "        state = self.env.reset()\n",
        "        done = False\n",
        "        score = 0\n",
        "        \n",
        "        while not done:\n",
        "            action = self.select_action(state)\n",
        "            next_state, reward, done = self.step(action)\n",
        "\n",
        "            state = next_state\n",
        "            score += reward\n",
        "        print(\"score: \", score)\n",
        "        self.env.close()\n",
        "        \n",
        "        # reset\n",
        "        self.env = naive_env\n",
        "\n",
        "    def _compute_dqn_loss(self, samples: Dict[str, np.ndarray]) -> torch.Tensor:\n",
        "        \"\"\"Return dqn loss.\"\"\"\n",
        "        device = self.device  # for shortening the following lines\n",
        "        state = torch.FloatTensor(samples[\"obs\"]).to(device)\n",
        "        next_state = torch.FloatTensor(samples[\"next_obs\"]).to(device)\n",
        "        action = torch.LongTensor(samples[\"acts\"].reshape(-1, 1)).to(device)\n",
        "        reward = torch.FloatTensor(samples[\"rews\"].reshape(-1, 1)).to(device)\n",
        "        done = torch.FloatTensor(samples[\"done\"].reshape(-1, 1)).to(device)\n",
        "\n",
        "        # G_t   = r + gamma * v(s_{t+1})  if state != Terminal\n",
        "        #       = r                       otherwise\n",
        "        curr_q_value = self.dqn(state).gather(1, action)\n",
        "        next_q_value = self.dqn_target(\n",
        "            next_state\n",
        "        ).max(dim=1, keepdim=True)[0].detach()\n",
        "        mask = 1 - done\n",
        "        # mask=1\n",
        "        target = (reward + self.gamma * next_q_value * mask).to(self.device)\n",
        "        # targetForPlot = (reward + self.gamma * next_q_value * mask)\n",
        "        \n",
        "        # calculate dqn loss\n",
        "        loss = F.smooth_l1_loss(curr_q_value, target)\n",
        "        return loss\n",
        "\n",
        "    def _target_hard_update(self):\n",
        "        \"\"\"Hard update: target <- local.\"\"\"\n",
        "        self.dqn_target.load_state_dict(self.dqn.state_dict())\n",
        "                \n",
        "    def _plot(\n",
        "        self, \n",
        "        frame_idx: int, \n",
        "        scores: List[float], \n",
        "        losses: List[float], \n",
        "        epsilons: List[float],\n",
        "        predictions: List[float],\n",
        "    ):\n",
        "          \n",
        "        \"\"\"Plot the training progresses.\"\"\"\n",
        "        clear_output(True)\n",
        "        # print(targets)\n",
        "        plt.figure(figsize=(20, 5))\n",
        "        plt.subplot(141)\n",
        "        plt.title('frame %s. score: %s' % (frame_idx, np.mean(scores[-10:])))\n",
        "        plt.plot(scores)\n",
        "        plt.subplot(142)\n",
        "        plt.title('loss')\n",
        "        plt.plot(losses)\n",
        "        plt.subplot(143)\n",
        "        plt.title('epsilons')\n",
        "        plt.plot(epsilons)\n",
        "        plt.subplot(144)\n",
        "        plt.title('predictions')\n",
        "        plt.plot(predictions)\n",
        "        plt.show()"
      ],
      "metadata": {
        "id": "YVbtpCYqZGv7"
      },
      "execution_count": 8,
      "outputs": []
    },
    {
      "cell_type": "markdown",
      "source": [
        "#Create the environment"
      ],
      "metadata": {
        "id": "if11YIXAf_dG"
      }
    },
    {
      "cell_type": "code",
      "execution_count": 9,
      "metadata": {
        "id": "uFZuVbZz2uVq"
      },
      "outputs": [],
      "source": [
        "# set the environment\n",
        "env_id = \"CartPole-v0\"\n",
        "env = gym.make(env_id)"
      ]
    },
    {
      "cell_type": "markdown",
      "source": [
        "#Set parameters for experiment"
      ],
      "metadata": {
        "id": "8yoJpvcXgCEL"
      }
    },
    {
      "cell_type": "code",
      "execution_count": 10,
      "metadata": {
        "id": "yianM-dx2uVn"
      },
      "outputs": [],
      "source": [
        "\n",
        "# create params\n",
        "num_frames = 10000\n",
        "memory_size = 1000\n",
        "gamma=0.99\n",
        "batch_size = 32\n",
        "target_update = 100\n",
        "epsilon_decay = 1 / 2000\n",
        "num_hidden_nodes=128\n",
        "video_folder=\"videos\"\n",
        "learning_rate=0.001\n"
      ]
    },
    {
      "cell_type": "code",
      "source": [
        "#Initialize the agent using the DQN class\n",
        "agent = DQNAgent(env,num_hidden_nodes, memory_size, batch_size, target_update, epsilon_decay, gamma = gamma)"
      ],
      "metadata": {
        "id": "VUt0odA2kuSl",
        "outputId": "5efe65be-a54a-45e9-f9fe-8c6e295f5125",
        "colab": {
          "base_uri": "https://localhost:8080/"
        }
      },
      "execution_count": 11,
      "outputs": [
        {
          "output_type": "stream",
          "name": "stdout",
          "text": [
            "cpu\n",
            "params <generator object Module.parameters at 0x7f1562935b50>\n"
          ]
        }
      ]
    },
    {
      "cell_type": "markdown",
      "source": [
        "#Train"
      ],
      "metadata": {
        "id": "BPu85nk2ZfJa"
      }
    },
    {
      "cell_type": "code",
      "execution_count": 12,
      "metadata": {
        "id": "azVNSMYa2uVq",
        "outputId": "87489357-037a-499f-89a7-c3e6e7a4daf8",
        "colab": {
          "base_uri": "https://localhost:8080/",
          "height": 336
        }
      },
      "outputs": [
        {
          "output_type": "display_data",
          "data": {
            "text/plain": [
              "<Figure size 1440x360 with 4 Axes>"
            ],
            "image/png": "[encoded data removed]"
          },
          "metadata": {
            "needs_background": "light"
          }
        }
      ],
      "source": [
        "# train the agent\n",
        "agent.train(num_frames)"
      ]
    },
    {
      "cell_type": "markdown",
      "source": [
        "#Test the network and export video of agent's actions"
      ],
      "metadata": {
        "id": "oUsgqvzyZh8q"
      }
    },
    {
      "cell_type": "code",
      "execution_count": 13,
      "metadata": {
        "id": "EomjmDOb2uVn",
        "outputId": "29f4d3b4-9e78-4852-fbca-835af97f2992",
        "colab": {
          "base_uri": "https://localhost:8080/"
        }
      },
      "outputs": [
        {
          "output_type": "stream",
          "name": "stderr",
          "text": [
            "/usr/local/lib/python3.7/dist-packages/gym/wrappers/record_video.py:42: UserWarning: \u001b[33mWARN: Overwriting existing videos at /content/videos folder (try specifying a different `video_folder` for the `RecordVideo` wrapper if this is not desired)\u001b[0m\n",
            "  f\"Overwriting existing videos at {self.video_folder} folder (try specifying a different `video_folder` for the `RecordVideo` wrapper if this is not desired)\"\n"
          ]
        },
        {
          "output_type": "stream",
          "name": "stdout",
          "text": [
            "score:  200.0\n"
          ]
        }
      ],
      "source": [
        "# create the video_folder var\n",
        "agent.test(video_folder=video_folder)"
      ]
    },
    {
      "cell_type": "code",
      "source": [
        "## create the functions to display the test video in colab\n",
        "\n",
        "\n",
        "def ipython_show_video(path: str) -> None:\n",
        "    \"\"\"Show a video at `path` within IPython Notebook.\"\"\"\n",
        "    if not os.path.isfile(path):\n",
        "        raise NameError(\"Cannot access: {}\".format(path))\n",
        "\n",
        "    video = io.open(path, \"r+b\").read()\n",
        "    encoded = base64.b64encode(video)\n",
        "\n",
        "    display(HTML(\n",
        "        data=\"\"\"\n",
        "        <video width=\"320\" height=\"240\" alt=\"test\" controls>\n",
        "        <source src=\"data:video/mp4;base64,{0}\" type=\"video/mp4\"/>\n",
        "        </video>\n",
        "        \"\"\".format(encoded.decode(\"ascii\"))\n",
        "    ))\n",
        "\n",
        "\n",
        "def show_latest_video(video_folder: str) -> str:\n",
        "    \"\"\"Show the most recently recorded video from video folder.\"\"\"\n",
        "    list_of_files = glob.glob(os.path.join(video_folder, \"*.mp4\"))\n",
        "    latest_file = max(list_of_files, key=os.path.getctime)\n",
        "    ipython_show_video(latest_file)\n",
        "    return latest_file\n",
        "\n",
        "\n",
        "latest_file = show_latest_video(video_folder=video_folder)\n",
        "print(\"Played:\", latest_file)"
      ],
      "metadata": {
        "id": "sTQ7xo9DZUKb",
        "outputId": "6bd1ac3a-30d8-49dd-f7fb-e5067263efb2",
        "colab": {
          "base_uri": "https://localhost:8080/",
          "height": 278
        }
      },
      "execution_count": 14,
      "outputs": [
        {
          "output_type": "display_data",
          "data": {
            "text/plain": [
              "<IPython.core.display.HTML object>"
            ],
            "text/html": [
              "\n",
              "        <video width=\"320\" height=\"240\" alt=\"test\" controls>\n",
              "        <source src=\"data:video/mp4;base64,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\" type=\"video/mp4\"/>\n",
              "        </video>\n",
              "        "
            ]
          },
          "metadata": {}
        },
        {
          "output_type": "stream",
          "name": "stdout",
          "text": [
            "Played: videos/rl-video-episode-0.mp4\n"
          ]
        }
      ]
    },
    {
      "cell_type": "code",
      "source": [
        "state = [0,0,0,0]\n",
        "predictions=agent.dqn(\n",
        "                torch.FloatTensor(state).to(agent.device)\n",
        "            ).detach().tolist()\n",
        "\n",
        "print(predictions)"
      ],
      "metadata": {
        "id": "zJM-hU0bjg3Z",
        "colab": {
          "base_uri": "https://localhost:8080/"
        },
        "outputId": "922e4255-f3cc-43dc-8815-5416f22edd2c"
      },
      "execution_count": 15,
      "outputs": [
        {
          "output_type": "stream",
          "name": "stdout",
          "text": [
            "[66.01087951660156, 66.00391387939453]\n"
          ]
        }
      ]
    },
    {
      "cell_type": "code",
      "source": [
        "x = np.linspace(0, 400, 401)\n",
        "y = 0\n",
        "gamma = 0.99\n",
        "ys = []\n",
        "for currX in x:\n",
        "  y+=gamma ** currX\n",
        "  ys.append(y)\n",
        "\n",
        "plt.plot(x, ys)\n",
        "plt.show"
      ],
      "metadata": {
        "colab": {
          "base_uri": "https://localhost:8080/",
          "height": 282
        },
        "id": "kk3eQNDV05jr",
        "outputId": "db5ae3eb-aa3d-40ff-8413-7c4c9c8ae271"
      },
      "execution_count": 16,
      "outputs": [
        {
          "output_type": "execute_result",
          "data": {
            "text/plain": [
              "<function matplotlib.pyplot.show>"
            ]
          },
          "metadata": {},
          "execution_count": 16
        },
        {
          "output_type": "display_data",
          "data": {
            "text/plain": [
              "<Figure size 432x288 with 1 Axes>"
            ],
            "image/png": "[encoded data removed]"
          },
          "metadata": {
            "needs_background": "light"
          }
        }
      ]
    }
  ],
  "metadata": {
    "kernelspec": {
      "display_name": "Python 3",
      "name": "python3"
    },
    "language_info": {
      "name": "python"
    },
    "colab": {
      "name": "lesson-04.ipynb",
      "provenance": [],
      "collapsed_sections": []
    },
    "gpuClass": "standard"
  },
  "nbformat": 4,
  "nbformat_minor": 0
}